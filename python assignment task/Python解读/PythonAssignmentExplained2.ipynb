{
 "cells": [
  {
   "cell_type": "markdown",
   "id": "6461e4a6",
   "metadata": {},
   "source": [
    "# Python 作业解读2:"
   ]
  },
  {
   "cell_type": "markdown",
   "id": "b121d5c6",
   "metadata": {},
   "source": [
    "本次作业解读包含两个方面\n",
    "1. 关于模型的选取的讲解和举例\n",
    "2. 可能用到的常见的代码和模板"
   ]
  },
  {
   "cell_type": "markdown",
   "id": "e9d82f91",
   "metadata": {},
   "source": [
    "## 模型的讲解和举例:"
   ]
  },
  {
   "cell_type": "markdown",
   "id": "be30dc63",
   "metadata": {},
   "source": [
    "回归分析能估计两个或者多个变量之间的关系! 所以我们的作业, 主要研究的就是住房面积和价格的关系, 所以我请同学们思考第一个问题:\n",
    "\n",
    "Question 1: 在咱们的作业里, 谁是自变量(Independent variable)? 谁是因变量(Dependent Variable)?\n",
    "\n"
   ]
  },
  {
   "cell_type": "markdown",
   "id": "d53556c0",
   "metadata": {},
   "source": [
    "### 线性回归"
   ]
  },
  {
   "cell_type": "markdown",
   "id": "554ee9cc",
   "metadata": {},
   "source": [
    "如果我们发现离散数据点画出来像是线性的, 我们可以使用线性回归.\n",
    "\n",
    "但是呢, 线性回归如果表现不好, 很可能是因为: \n",
    "    线性回归对异常值非常敏感, 异常值会严重影响回归线和最终的预测值"
   ]
  },
  {
   "cell_type": "markdown",
   "id": "b6ba4fa6",
   "metadata": {},
   "source": [
    "### RANSAC Regressor, 随机抽样一致回归"
   ]
  },
  {
   "cell_type": "markdown",
   "id": "ae721f41",
   "metadata": {},
   "source": [
    "如果我们发现, 有一些非常离群的点. 那我们可以考虑使用RANSAC Regressor方法. 我们先把所有的数据分为大概有效的点(inlier)和看起来很奇怪的点(outlier).\n",
    "\n",
    "Outlier对模型的估计没有价值，因此该方法也可以叫做outlier检测方法。\n",
    "\n",
    "这是一种非确定性算法，因为它是在一定概率下得到一个合理的结果，当迭代次数增加，概率也会增加"
   ]
  },
  {
   "cell_type": "markdown",
   "id": "6253e8ff",
   "metadata": {},
   "source": [
    "### LASSO 回归"
   ]
  },
  {
   "cell_type": "markdown",
   "id": "756d412d",
   "metadata": {},
   "source": [
    "这个比较复杂, 我们先要介绍一个概念:Sparse, 稀疏性\n",
    "\n",
    "我们考虑一个线性回归模型，有一个因变量Y，但有成百上千的自变量X. 但是这些自变量就真的都会影响Y吗? 商场的厕所里洗手液的剩余量, 会影响饭店的营业额么?\n",
    "\n",
    "换句话说, 分析Y和(X,Z,W,U)的关系的时候，对于我们可能的XZWU，稀疏性告诉我们ZWU可能和Y没啥关系.\n",
    "\n",
    "Mean Square Error由偏差(bias)和方差(variance)两部分组成; 这两部分很难“鱼和熊掌兼得”. \n",
    "\n",
    "LASSO虽然是有偏估计，但是在引入一定的偏差的同时，可能可以大量降低估计的方差，从而降低整体的MSE."
   ]
  },
  {
   "cell_type": "markdown",
   "id": "b0ce3e87",
   "metadata": {},
   "source": [
    "### 多项式回归"
   ]
  },
  {
   "cell_type": "markdown",
   "id": "84579e5c",
   "metadata": {},
   "source": [
    "和线性回归原理类似, 但是注意呀, 我不建议大量的改动多项式的次数, 这样容易导致过拟合. 说简单点就是把简单的问题变复杂了!\n",
    "\n",
    "不知道大家有无尝试谷歌搜索过 多项式回归+房价与房屋尺寸的非线性拟合这个课题呢???.....\n",
    "\n",
    "Interesting?"
   ]
  },
  {
   "cell_type": "markdown",
   "id": "e73f0866",
   "metadata": {},
   "source": [
    "### 决策树"
   ]
  },
  {
   "cell_type": "markdown",
   "id": "1df28209",
   "metadata": {},
   "source": [
    "决策树真的就是一个做决策的树状结构! 这个算法非常有趣, 我简单为大家介绍一下他的思路!\n",
    "\n",
    "我们需要做的就是按照一定的条件去分类(我们最后再说这个分类条件, 这个条件选取是比较麻烦的), 不断不断分类, 分类到我们觉得足够散了之后, 我们就把这个大树整理出来.\n",
    "\n",
    "现在好了, 我们怎么做预测呢????\n",
    "\n",
    "我们需要做的就是, 把你想做预测的点, 按照我们的分类条件, 看看可以扔在什么分类里. 然后呢, 我们用最后分类到的组里的成员的平均表现估计我们扔进去的值.\n",
    "\n",
    "这个听起来有一些抽象, 现在让我们来看看这个图:"
   ]
  },
  {
   "cell_type": "markdown",
   "id": "269909e6",
   "metadata": {},
   "source": [
    "![jupyter](https://chenzy96.github.io/2018/10/20/%E5%9B%9E%E5%BD%92%E5%88%86%E6%9E%90%E4%B9%8B%E5%86%B3%E7%AD%96%E6%A0%91/%E5%86%B3%E7%AD%96%E6%A0%91.png)"
   ]
  },
  {
   "cell_type": "markdown",
   "id": "cb73ab22",
   "metadata": {},
   "source": [
    "猜猜杨梅大概是什么口味的???\n",
    "\n",
    "好了, 现在我们说说代码实现:\n",
    "\n",
    "我推荐的一个格式是:\n",
    "\n",
    "tree = DecisionTreeRegressor(criterion='mse' ,max_depth=None,max_features='sqrt',min_samples_split=2,min_samples_leaf=1,random_state=0).fit(X_train,y_train)\n",
    "\n",
    "是的!这段没有文字讲解, 我也从视频里删除了, 新厚道的朋友们我会组织一起线上课程给大家讲这个具体实现.\n",
    "\n",
    "决策树的优点在于: 计算量简单，可解释性强，比较适合处理有缺失属性值的样本.\n",
    "决策树的缺点在于: 容易过拟合!...还是把简单问题复杂化了, 然后导致了一个简单的预测出现了很复杂的结果???.."
   ]
  },
  {
   "cell_type": "markdown",
   "id": "b7d459f4",
   "metadata": {},
   "source": [
    "### Random Forest 随机森林"
   ]
  },
  {
   "cell_type": "markdown",
   "id": "55e7a372",
   "metadata": {},
   "source": [
    "随机森林是由很多决策树构成的，不同决策树之间没有关联。\n",
    "\n",
    "当我们进行分类任务时，新的输入样本进入，就让森林中的每一棵决策树分别进行判断和分类，每个决策树会得到一个自己的分类结果，决策树的分类结果中哪一个分类最多，那么随机森林就会把这个结果当做最终的结果。\n",
    "\n",
    "随机森林在很多任务上一般要比提升方法的精度差，并且运行时间也更长...但是比决策树好一点点吧"
   ]
  }
 ],
 "metadata": {
  "kernelspec": {
   "display_name": "Python 3",
   "language": "python",
   "name": "python3"
  },
  "language_info": {
   "codemirror_mode": {
    "name": "ipython",
    "version": 3
   },
   "file_extension": ".py",
   "mimetype": "text/x-python",
   "name": "python",
   "nbconvert_exporter": "python",
   "pygments_lexer": "ipython3",
   "version": "3.8.8"
  }
 },
 "nbformat": 4,
 "nbformat_minor": 5
}
