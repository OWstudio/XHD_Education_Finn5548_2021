{
 "cells": [
  {
   "cell_type": "markdown",
   "id": "eed4aec4",
   "metadata": {},
   "source": [
    "# 新厚道 5548 Python作业解读 1"
   ]
  },
  {
   "cell_type": "markdown",
   "id": "d3117ca7",
   "metadata": {},
   "source": [
    "## 作业解读系列的介绍"
   ]
  },
  {
   "cell_type": "markdown",
   "id": "fbc52c75",
   "metadata": {},
   "source": [
    "1. 2021 Python作业解读系列一共分为三个文档. \n",
    "    作业解读1介绍了作业提交的基本要求, 以及关于作业中问题的简单解读, 以及关于作业要求的陈述. \n",
    "    作业解读2介绍了与作业一切相关的技术重点和可能的一些有帮助的代码. \n",
    "    作业解读3会给出作业中需要重点注意的一些格式问题, 和可能遇到的bug的处理.\n",
    "    \n",
    "2. 请同学们不要尝试向任何同学交流自己写的代码, 这有可能引起非常严重的作弊问题\n",
    "\n",
    "3. 请同学们不要尝试向任何老师提问关于代码具体实现的问题, 以及向老师询问代码对错的问题.\n",
    "\n",
    "4. 欢迎同学们向我本人或者Bob老师提问各种技术细节, 但注意, 老师保有权利判断是否问题涉嫌抄袭作弊从而拒绝回答问题. 这是使用本系列交互式文档的基本要求之一, 如无法同意此条基本要求, 请慎重思考使用本系列文档.\n",
    "\n",
    "5. 本系列作业解读, 由新厚道教育以及Mango Intelligence联合提供. 任何其余教育商业机构的使用传播, 必须经过相关许可. 否则追究一切责任!\n",
    "\n",
    "6. 联系方式: 微信群内名片推送, 或 Github 站内信. \n",
    "\n",
    "谢谢大家!"
   ]
  },
  {
   "cell_type": "markdown",
   "id": "f5715635",
   "metadata": {},
   "source": [
    "## 作业的形式要求"
   ]
  },
  {
   "cell_type": "markdown",
   "id": "b06abcf4",
   "metadata": {},
   "source": [
    "1. 使用Anaconda中的Spyder, 创建自己的Python文件. Python文件的名称为: <你的学生ID_你的姓名>.\n",
    "    比如我的学号是 z1234567, 我的姓名是老必登, 那么文件名的全称(带后缀的)就是\n",
    "    z1234567_BidengLao.py"
   ]
  },
  {
   "cell_type": "markdown",
   "id": "c43c6066",
   "metadata": {},
   "source": [
    "2. 作业提交日期不能晚于!\n",
    "    第十周周末晚上10:00."
   ]
  },
  {
   "cell_type": "markdown",
   "id": "65e77b66",
   "metadata": {},
   "source": [
    "3. 通过moodle窗口提交页面提交"
   ]
  },
  {
   "cell_type": "markdown",
   "id": "75cfd10d",
   "metadata": {},
   "source": [
    "## 作业的文档内容"
   ]
  },
  {
   "cell_type": "markdown",
   "id": "99f50e79",
   "metadata": {},
   "source": [
    "这里我们描绘一下作业题目本身说了什么:\n",
    "\n",
    "在这个作业里, 我们要探究的课题是: \n",
    "    住房面积(Size of living area)对于资产价格(SalePrice)的影响.\n",
    "在研究这个影响的时候, 我们必须从以下6个模型中, 选取两个模型进行分析. 我们的数据老师已经给出来了, 在CVS表格里.\n",
    "\n",
    "我们的任务主要包括:\n",
    "1. 非常详尽地解释我们所做的每一个步骤, 他的动机, 实现的目的和代码来源\n",
    "2. 非常详尽地解释我们所获得的每一个结果, 结果的来源\n",
    "3. 非常详尽地展示出模型有关的评估系数, 比如MSE和R2系数, 并解释他们的意义.\n",
    "4. 非常详尽地, 有逻辑地, 评估模型, 表述模型的精确性\n",
    "\n",
    "我们可以选择的模型有:\n",
    "1. Linear Regression, 线性回归模型\n",
    "2. RANSAC Regressor, 随机抽样一致回归\n",
    "3. LASSO, 最小绝对值收敛和选择算子、套索算法\n",
    "4. Polynomials, 多项式回归\n",
    "5. Decision Tree, 决策树\n",
    "6. Random Forest, 随机森林"
   ]
  },
  {
   "cell_type": "markdown",
   "id": "dc4872e9",
   "metadata": {},
   "source": [
    "## 作业的格式需求"
   ]
  },
  {
   "cell_type": "markdown",
   "id": "d58cd3e7",
   "metadata": {},
   "source": [
    "1. 使用Spyder.\n",
    "2. 我们的文档结构, 一定是有四个成分.\n",
    "    1). 解释我们文档书写的目的, 和解决问题的步骤\n",
    "    2). 描述每一行代码实现的功能. 以及为什么要使用这个功能\n",
    "    3). 在开始写可运行的代码之前, 明确起始点, 每一个代码块写完之后, 明确终止位置.\n",
    "    4). 解释你的结果.\n",
    "    \n",
    "一定要按照老师推荐的格式去写, 比如"
   ]
  },
  {
   "cell_type": "code",
   "execution_count": 1,
   "id": "1d430436",
   "metadata": {
    "collapsed": true
   },
   "outputs": [
    {
     "data": {
      "text/plain": [
       "'\\n    下面我们对模型开始评估:\\n    1. 模型准确性来源于:xxxx\\n    2. 模型不准确性可能是: xxxx\\n    3. 逻辑上模型的合理性是因为:xxxx\\n    4. 我调查到的资料是:xxxxx\\n'"
      ]
     },
     "execution_count": 1,
     "metadata": {},
     "output_type": "execute_result"
    }
   ],
   "source": [
    "'''\n",
    "    我们的解决问题的步骤以及其意义分别是:\n",
    "    1. \n",
    "    2.\n",
    "    3.\n",
    "    4. \n",
    "'''\n",
    "\n",
    "# 我创建了一个变量, 这个变量的意义是: xxxxx\n",
    "# 这个变量的类型是:xxxxx\n",
    "\n",
    "# 我对变量做了一个处理, 现在变量的意义是:xxxx\n",
    "# 现在变量的类型是: xxxx\n",
    "\n",
    "# 这是代码第一块, 我写这块代码的目的是:xxxx, 他的结果应该是:xxxx\n",
    "# 我开始写代码了!\n",
    "\n",
    "# 我这一块的代码写完了.\n",
    "\n",
    "'''\n",
    "    下面我们来开始进行对结果的解读:\n",
    "    1. 结果1是根据xxx得到的, 意义是xxx, 这说明我们的模型xxxx\n",
    "    2. 结果2是根据xxx得到的, 意义是xxx, 这说明我们的模型xxxx\n",
    "    3. 结果3是根据xxx得到的, 意义是xxx, 这说明我们的模型xxxx\n",
    "'''\n",
    "\n",
    "'''\n",
    "    下面我们对模型开始评估:\n",
    "    1. 模型准确性来源于:xxxx\n",
    "    2. 模型不准确性可能是: xxxx\n",
    "    3. 逻辑上模型的合理性是因为:xxxx\n",
    "    4. 我调查到的资料是:xxxxx\n",
    "'''"
   ]
  },
  {
   "cell_type": "markdown",
   "id": "9d214fd8",
   "metadata": {},
   "source": [
    "# 关于写作业的一般意见"
   ]
  },
  {
   "cell_type": "markdown",
   "id": "98a9e7a2",
   "metadata": {},
   "source": [
    "1. 大家一定要想好使用什么模型, 关于模型的简单介绍, 我们会在第二份文档里写出来.\n",
    "2. 开始写这个作业, 我推荐大家先在草稿纸上写一些步骤, 最后再实现代码. \n",
    "3. 关于所有的文本注释, 可以先写中文.最后再写代码\n",
    "4. 关于数据的可视化, 最好先自己在纸上规划一下x轴是什么, y轴是什么.\n",
    "\n",
    "5. 大家记得看一下之前的视频讲解, 回顾一下所有的知识点. 我们作业里用到的技术, 我们都有不止一块的代码案例, 不要花太多时间自己写代码, 能改用之前的, 最好改用之前的.\n",
    "6. 有什么问题欢迎大家随时来问."
   ]
  }
 ],
 "metadata": {
  "kernelspec": {
   "display_name": "Python 3",
   "language": "python",
   "name": "python3"
  },
  "language_info": {
   "codemirror_mode": {
    "name": "ipython",
    "version": 3
   },
   "file_extension": ".py",
   "mimetype": "text/x-python",
   "name": "python",
   "nbconvert_exporter": "python",
   "pygments_lexer": "ipython3",
   "version": "3.8.8"
  }
 },
 "nbformat": 4,
 "nbformat_minor": 5
}
