{
 "cells": [
  {
   "cell_type": "markdown",
   "id": "8657e6b1",
   "metadata": {},
   "source": [
    "# PythonAssignmentExplained3"
   ]
  },
  {
   "cell_type": "markdown",
   "id": "112d7a6e",
   "metadata": {},
   "source": [
    "在这个文档里, 我们会提供必要的案例和相关的代码知识..\n",
    "\n",
    "注意!!! \n",
    "这个文档里的所有代码, 都不是新厚道老师/员工编写的, 新厚道的的老师/员工对代码本身基于MIT协议不但负任何责任.\n",
    "机构只负责讲解这些有参考来源的代码. \n",
    "\n",
    "望同学们酌情参考.\n",
    "\n",
    "我画的是LotArea不是Living Area, 你看看需要画啥, 别画错了!\n",
    "\n",
    "我画的是LotArea不是Living Area, 你看看需要画啥, 别画错了!\n",
    "\n",
    "我画的是LotArea不是Living Area, 你看看需要画啥, 别画错了!\n",
    "\n",
    "我画的是LotArea不是Living Area, 你看看需要画啥, 别画错了!\n",
    "\n",
    "我画的是LotArea不是Living Area, 你看看需要画啥, 别画错了!\n",
    "\n",
    "我画的是LotArea不是Living Area, 你看看需要画啥, 别画错了!\n",
    "\n",
    "我画的是LotArea不是Living Area, 你看看需要画啥, 别画错了!\n",
    "\n",
    "我画的是LotArea不是Living Area, 你看看需要画啥, 别画错了!\n",
    "\n",
    "我画的是LotArea不是Living Area, 你看看需要画啥, 别画错了!\n",
    "\n",
    "我画的是LotArea不是Living Area, 你看看需要画啥, 别画错了!\n",
    "\n",
    "我画的是LotArea不是Living Area, 你看看需要画啥, 别画错了!\n",
    "\n",
    "我画的是LotArea不是Living Area, 你看看需要画啥, 别画错了!\n",
    "\n",
    "我画的是LotArea不是Living Area, 你看看需要画啥, 别画错了!\n",
    "\n",
    "我画的是LotArea不是Living Area, 你看看需要画啥, 别画错了!\n",
    "\n",
    "我画的是LotArea不是Living Area, 你看看需要画啥, 别画错了!\n",
    "\n",
    "我画的是LotArea不是Living Area, 你看看需要画啥, 别画错了!\n",
    "\n",
    "我画的是LotArea不是Living Area, 你看看需要画啥, 别画错了!\n",
    "\n",
    "我画的是LotArea不是Living Area, 你看看需要画啥, 别画错了!\n",
    "\n",
    "我画的是LotArea不是Living Area, 你看看需要画啥, 别画错了!\n",
    "\n",
    "我画的是LotArea不是Living Area, 你看看需要画啥, 别画错了!"
   ]
  },
  {
   "cell_type": "markdown",
   "id": "249a6344",
   "metadata": {},
   "source": [
    "## 如何加载所需要的工具包?"
   ]
  },
  {
   "cell_type": "markdown",
   "id": "1a1a43a4",
   "metadata": {},
   "source": [
    "我们经常用到的包有:\n",
    "1. numpy : 这是一个关于数学运算所有你需要知道的东西的包\n",
    "2. pandas : 非常强力的一个统计学的包\n",
    "3. matplotlib : 画图需要这个包!\n",
    "4. sklearn : 进行数据分析需要这个包!\n",
    "\n",
    "那么我们怎么加载这些包到我们的Python文件里呢??"
   ]
  },
  {
   "cell_type": "markdown",
   "id": "0085c66f",
   "metadata": {},
   "source": [
    "import numpy as np"
   ]
  },
  {
   "cell_type": "markdown",
   "id": "489513a2",
   "metadata": {},
   "source": [
    "import pandas as pd "
   ]
  },
  {
   "cell_type": "markdown",
   "id": "2c265f57",
   "metadata": {},
   "source": [
    "import matplotlib.pyplot as plt"
   ]
  },
  {
   "cell_type": "markdown",
   "id": "9e165974",
   "metadata": {},
   "source": [
    "from sklearn.linear_model import LinearRegression"
   ]
  },
  {
   "cell_type": "markdown",
   "id": "c3ea5b06",
   "metadata": {},
   "source": [
    "from sklearn.model_selection import train_test_split"
   ]
  },
  {
   "cell_type": "markdown",
   "id": "2e1801aa",
   "metadata": {},
   "source": [
    "from sklearn.ensemble import RandomForestRegressor"
   ]
  },
  {
   "cell_type": "markdown",
   "id": "87014b51",
   "metadata": {},
   "source": [
    "from sklearn.preprocessing import PolynomialFeatures"
   ]
  },
  {
   "cell_type": "markdown",
   "id": "a9060355",
   "metadata": {},
   "source": [
    "## 如何读取一个CVS里的数据?"
   ]
  },
  {
   "cell_type": "markdown",
   "id": "4e388ced",
   "metadata": {},
   "source": [
    "读取一个CVS里面的数据, 主要步骤有三个:\n",
    "1. 找到文件地址\n",
    "2. 利用函数把cvs数据提取出来\n",
    "3. 给数据起一个合理的名字\n",
    "\n",
    "我在这里举一个例子"
   ]
  },
  {
   "cell_type": "code",
   "execution_count": 7,
   "id": "34448cb2",
   "metadata": {},
   "outputs": [],
   "source": [
    "import pandas as pds\n",
    "RawData = pds.read_csv('/Users/cmp/Dropbox/python assignment task/datasets_houses (5).csv')"
   ]
  },
  {
   "cell_type": "code",
   "execution_count": 8,
   "id": "a8b6602d",
   "metadata": {},
   "outputs": [
    {
     "data": {
      "text/html": [
       "<div>\n",
       "<style scoped>\n",
       "    .dataframe tbody tr th:only-of-type {\n",
       "        vertical-align: middle;\n",
       "    }\n",
       "\n",
       "    .dataframe tbody tr th {\n",
       "        vertical-align: top;\n",
       "    }\n",
       "\n",
       "    .dataframe thead th {\n",
       "        text-align: right;\n",
       "    }\n",
       "</style>\n",
       "<table border=\"1\" class=\"dataframe\">\n",
       "  <thead>\n",
       "    <tr style=\"text-align: right;\">\n",
       "      <th></th>\n",
       "      <th>Id</th>\n",
       "      <th>MSSubClass</th>\n",
       "      <th>MSZoning</th>\n",
       "      <th>LotFrontage</th>\n",
       "      <th>LotArea</th>\n",
       "      <th>Street</th>\n",
       "      <th>Alley</th>\n",
       "      <th>LotShape</th>\n",
       "      <th>LandContour</th>\n",
       "      <th>Utilities</th>\n",
       "      <th>...</th>\n",
       "      <th>PoolArea</th>\n",
       "      <th>PoolQC</th>\n",
       "      <th>Fence</th>\n",
       "      <th>MiscFeature</th>\n",
       "      <th>MiscVal</th>\n",
       "      <th>MoSold</th>\n",
       "      <th>YrSold</th>\n",
       "      <th>SaleType</th>\n",
       "      <th>SaleCondition</th>\n",
       "      <th>SalePrice</th>\n",
       "    </tr>\n",
       "  </thead>\n",
       "  <tbody>\n",
       "    <tr>\n",
       "      <th>0</th>\n",
       "      <td>1</td>\n",
       "      <td>60</td>\n",
       "      <td>RL</td>\n",
       "      <td>65.0</td>\n",
       "      <td>8450</td>\n",
       "      <td>Pave</td>\n",
       "      <td>NaN</td>\n",
       "      <td>Reg</td>\n",
       "      <td>Lvl</td>\n",
       "      <td>AllPub</td>\n",
       "      <td>...</td>\n",
       "      <td>0</td>\n",
       "      <td>NaN</td>\n",
       "      <td>NaN</td>\n",
       "      <td>NaN</td>\n",
       "      <td>0</td>\n",
       "      <td>2</td>\n",
       "      <td>2008</td>\n",
       "      <td>WD</td>\n",
       "      <td>Normal</td>\n",
       "      <td>208500</td>\n",
       "    </tr>\n",
       "    <tr>\n",
       "      <th>1</th>\n",
       "      <td>2</td>\n",
       "      <td>20</td>\n",
       "      <td>RL</td>\n",
       "      <td>80.0</td>\n",
       "      <td>9600</td>\n",
       "      <td>Pave</td>\n",
       "      <td>NaN</td>\n",
       "      <td>Reg</td>\n",
       "      <td>Lvl</td>\n",
       "      <td>AllPub</td>\n",
       "      <td>...</td>\n",
       "      <td>0</td>\n",
       "      <td>NaN</td>\n",
       "      <td>NaN</td>\n",
       "      <td>NaN</td>\n",
       "      <td>0</td>\n",
       "      <td>5</td>\n",
       "      <td>2007</td>\n",
       "      <td>WD</td>\n",
       "      <td>Normal</td>\n",
       "      <td>181500</td>\n",
       "    </tr>\n",
       "    <tr>\n",
       "      <th>2</th>\n",
       "      <td>3</td>\n",
       "      <td>60</td>\n",
       "      <td>RL</td>\n",
       "      <td>68.0</td>\n",
       "      <td>11250</td>\n",
       "      <td>Pave</td>\n",
       "      <td>NaN</td>\n",
       "      <td>IR1</td>\n",
       "      <td>Lvl</td>\n",
       "      <td>AllPub</td>\n",
       "      <td>...</td>\n",
       "      <td>0</td>\n",
       "      <td>NaN</td>\n",
       "      <td>NaN</td>\n",
       "      <td>NaN</td>\n",
       "      <td>0</td>\n",
       "      <td>9</td>\n",
       "      <td>2008</td>\n",
       "      <td>WD</td>\n",
       "      <td>Normal</td>\n",
       "      <td>223500</td>\n",
       "    </tr>\n",
       "    <tr>\n",
       "      <th>3</th>\n",
       "      <td>4</td>\n",
       "      <td>70</td>\n",
       "      <td>RL</td>\n",
       "      <td>60.0</td>\n",
       "      <td>9550</td>\n",
       "      <td>Pave</td>\n",
       "      <td>NaN</td>\n",
       "      <td>IR1</td>\n",
       "      <td>Lvl</td>\n",
       "      <td>AllPub</td>\n",
       "      <td>...</td>\n",
       "      <td>0</td>\n",
       "      <td>NaN</td>\n",
       "      <td>NaN</td>\n",
       "      <td>NaN</td>\n",
       "      <td>0</td>\n",
       "      <td>2</td>\n",
       "      <td>2006</td>\n",
       "      <td>WD</td>\n",
       "      <td>Abnorml</td>\n",
       "      <td>140000</td>\n",
       "    </tr>\n",
       "    <tr>\n",
       "      <th>4</th>\n",
       "      <td>5</td>\n",
       "      <td>60</td>\n",
       "      <td>RL</td>\n",
       "      <td>84.0</td>\n",
       "      <td>14260</td>\n",
       "      <td>Pave</td>\n",
       "      <td>NaN</td>\n",
       "      <td>IR1</td>\n",
       "      <td>Lvl</td>\n",
       "      <td>AllPub</td>\n",
       "      <td>...</td>\n",
       "      <td>0</td>\n",
       "      <td>NaN</td>\n",
       "      <td>NaN</td>\n",
       "      <td>NaN</td>\n",
       "      <td>0</td>\n",
       "      <td>12</td>\n",
       "      <td>2008</td>\n",
       "      <td>WD</td>\n",
       "      <td>Normal</td>\n",
       "      <td>250000</td>\n",
       "    </tr>\n",
       "    <tr>\n",
       "      <th>...</th>\n",
       "      <td>...</td>\n",
       "      <td>...</td>\n",
       "      <td>...</td>\n",
       "      <td>...</td>\n",
       "      <td>...</td>\n",
       "      <td>...</td>\n",
       "      <td>...</td>\n",
       "      <td>...</td>\n",
       "      <td>...</td>\n",
       "      <td>...</td>\n",
       "      <td>...</td>\n",
       "      <td>...</td>\n",
       "      <td>...</td>\n",
       "      <td>...</td>\n",
       "      <td>...</td>\n",
       "      <td>...</td>\n",
       "      <td>...</td>\n",
       "      <td>...</td>\n",
       "      <td>...</td>\n",
       "      <td>...</td>\n",
       "      <td>...</td>\n",
       "    </tr>\n",
       "    <tr>\n",
       "      <th>1455</th>\n",
       "      <td>1456</td>\n",
       "      <td>60</td>\n",
       "      <td>RL</td>\n",
       "      <td>62.0</td>\n",
       "      <td>7917</td>\n",
       "      <td>Pave</td>\n",
       "      <td>NaN</td>\n",
       "      <td>Reg</td>\n",
       "      <td>Lvl</td>\n",
       "      <td>AllPub</td>\n",
       "      <td>...</td>\n",
       "      <td>0</td>\n",
       "      <td>NaN</td>\n",
       "      <td>NaN</td>\n",
       "      <td>NaN</td>\n",
       "      <td>0</td>\n",
       "      <td>8</td>\n",
       "      <td>2007</td>\n",
       "      <td>WD</td>\n",
       "      <td>Normal</td>\n",
       "      <td>175000</td>\n",
       "    </tr>\n",
       "    <tr>\n",
       "      <th>1456</th>\n",
       "      <td>1457</td>\n",
       "      <td>20</td>\n",
       "      <td>RL</td>\n",
       "      <td>85.0</td>\n",
       "      <td>13175</td>\n",
       "      <td>Pave</td>\n",
       "      <td>NaN</td>\n",
       "      <td>Reg</td>\n",
       "      <td>Lvl</td>\n",
       "      <td>AllPub</td>\n",
       "      <td>...</td>\n",
       "      <td>0</td>\n",
       "      <td>NaN</td>\n",
       "      <td>MnPrv</td>\n",
       "      <td>NaN</td>\n",
       "      <td>0</td>\n",
       "      <td>2</td>\n",
       "      <td>2010</td>\n",
       "      <td>WD</td>\n",
       "      <td>Normal</td>\n",
       "      <td>210000</td>\n",
       "    </tr>\n",
       "    <tr>\n",
       "      <th>1457</th>\n",
       "      <td>1458</td>\n",
       "      <td>70</td>\n",
       "      <td>RL</td>\n",
       "      <td>66.0</td>\n",
       "      <td>9042</td>\n",
       "      <td>Pave</td>\n",
       "      <td>NaN</td>\n",
       "      <td>Reg</td>\n",
       "      <td>Lvl</td>\n",
       "      <td>AllPub</td>\n",
       "      <td>...</td>\n",
       "      <td>0</td>\n",
       "      <td>NaN</td>\n",
       "      <td>GdPrv</td>\n",
       "      <td>Shed</td>\n",
       "      <td>2500</td>\n",
       "      <td>5</td>\n",
       "      <td>2010</td>\n",
       "      <td>WD</td>\n",
       "      <td>Normal</td>\n",
       "      <td>266500</td>\n",
       "    </tr>\n",
       "    <tr>\n",
       "      <th>1458</th>\n",
       "      <td>1459</td>\n",
       "      <td>20</td>\n",
       "      <td>RL</td>\n",
       "      <td>68.0</td>\n",
       "      <td>9717</td>\n",
       "      <td>Pave</td>\n",
       "      <td>NaN</td>\n",
       "      <td>Reg</td>\n",
       "      <td>Lvl</td>\n",
       "      <td>AllPub</td>\n",
       "      <td>...</td>\n",
       "      <td>0</td>\n",
       "      <td>NaN</td>\n",
       "      <td>NaN</td>\n",
       "      <td>NaN</td>\n",
       "      <td>0</td>\n",
       "      <td>4</td>\n",
       "      <td>2010</td>\n",
       "      <td>WD</td>\n",
       "      <td>Normal</td>\n",
       "      <td>142125</td>\n",
       "    </tr>\n",
       "    <tr>\n",
       "      <th>1459</th>\n",
       "      <td>1460</td>\n",
       "      <td>20</td>\n",
       "      <td>RL</td>\n",
       "      <td>75.0</td>\n",
       "      <td>9937</td>\n",
       "      <td>Pave</td>\n",
       "      <td>NaN</td>\n",
       "      <td>Reg</td>\n",
       "      <td>Lvl</td>\n",
       "      <td>AllPub</td>\n",
       "      <td>...</td>\n",
       "      <td>0</td>\n",
       "      <td>NaN</td>\n",
       "      <td>NaN</td>\n",
       "      <td>NaN</td>\n",
       "      <td>0</td>\n",
       "      <td>6</td>\n",
       "      <td>2008</td>\n",
       "      <td>WD</td>\n",
       "      <td>Normal</td>\n",
       "      <td>147500</td>\n",
       "    </tr>\n",
       "  </tbody>\n",
       "</table>\n",
       "<p>1460 rows × 81 columns</p>\n",
       "</div>"
      ],
      "text/plain": [
       "        Id  MSSubClass MSZoning  LotFrontage  LotArea Street Alley LotShape  \\\n",
       "0        1          60       RL         65.0     8450   Pave   NaN      Reg   \n",
       "1        2          20       RL         80.0     9600   Pave   NaN      Reg   \n",
       "2        3          60       RL         68.0    11250   Pave   NaN      IR1   \n",
       "3        4          70       RL         60.0     9550   Pave   NaN      IR1   \n",
       "4        5          60       RL         84.0    14260   Pave   NaN      IR1   \n",
       "...    ...         ...      ...          ...      ...    ...   ...      ...   \n",
       "1455  1456          60       RL         62.0     7917   Pave   NaN      Reg   \n",
       "1456  1457          20       RL         85.0    13175   Pave   NaN      Reg   \n",
       "1457  1458          70       RL         66.0     9042   Pave   NaN      Reg   \n",
       "1458  1459          20       RL         68.0     9717   Pave   NaN      Reg   \n",
       "1459  1460          20       RL         75.0     9937   Pave   NaN      Reg   \n",
       "\n",
       "     LandContour Utilities  ... PoolArea PoolQC  Fence MiscFeature MiscVal  \\\n",
       "0            Lvl    AllPub  ...        0    NaN    NaN         NaN       0   \n",
       "1            Lvl    AllPub  ...        0    NaN    NaN         NaN       0   \n",
       "2            Lvl    AllPub  ...        0    NaN    NaN         NaN       0   \n",
       "3            Lvl    AllPub  ...        0    NaN    NaN         NaN       0   \n",
       "4            Lvl    AllPub  ...        0    NaN    NaN         NaN       0   \n",
       "...          ...       ...  ...      ...    ...    ...         ...     ...   \n",
       "1455         Lvl    AllPub  ...        0    NaN    NaN         NaN       0   \n",
       "1456         Lvl    AllPub  ...        0    NaN  MnPrv         NaN       0   \n",
       "1457         Lvl    AllPub  ...        0    NaN  GdPrv        Shed    2500   \n",
       "1458         Lvl    AllPub  ...        0    NaN    NaN         NaN       0   \n",
       "1459         Lvl    AllPub  ...        0    NaN    NaN         NaN       0   \n",
       "\n",
       "     MoSold YrSold  SaleType  SaleCondition  SalePrice  \n",
       "0         2   2008        WD         Normal     208500  \n",
       "1         5   2007        WD         Normal     181500  \n",
       "2         9   2008        WD         Normal     223500  \n",
       "3         2   2006        WD        Abnorml     140000  \n",
       "4        12   2008        WD         Normal     250000  \n",
       "...     ...    ...       ...            ...        ...  \n",
       "1455      8   2007        WD         Normal     175000  \n",
       "1456      2   2010        WD         Normal     210000  \n",
       "1457      5   2010        WD         Normal     266500  \n",
       "1458      4   2010        WD         Normal     142125  \n",
       "1459      6   2008        WD         Normal     147500  \n",
       "\n",
       "[1460 rows x 81 columns]"
      ]
     },
     "execution_count": 8,
     "metadata": {},
     "output_type": "execute_result"
    }
   ],
   "source": [
    "RawData"
   ]
  },
  {
   "cell_type": "code",
   "execution_count": 9,
   "id": "df616516",
   "metadata": {},
   "outputs": [],
   "source": [
    "# 现在我们给数据起一些有意义的名字\n",
    "x_LotArea = RawData[['LotArea']].values\n",
    "y_SalePrice = RawData[['SalePrice']].values"
   ]
  },
  {
   "cell_type": "code",
   "execution_count": 10,
   "id": "92fab05b",
   "metadata": {},
   "outputs": [
    {
     "name": "stdout",
     "output_type": "stream",
     "text": [
      "[[ 8450]\n",
      " [ 9600]\n",
      " [11250]\n",
      " ...\n",
      " [ 9042]\n",
      " [ 9717]\n",
      " [ 9937]]\n"
     ]
    }
   ],
   "source": [
    "print(x_LotArea)"
   ]
  },
  {
   "cell_type": "code",
   "execution_count": 11,
   "id": "bd0797c2",
   "metadata": {},
   "outputs": [
    {
     "name": "stdout",
     "output_type": "stream",
     "text": [
      "[[208500]\n",
      " [181500]\n",
      " [223500]\n",
      " ...\n",
      " [266500]\n",
      " [142125]\n",
      " [147500]]\n"
     ]
    }
   ],
   "source": [
    "print(y_SalePrice)"
   ]
  },
  {
   "cell_type": "markdown",
   "id": "c6894b13",
   "metadata": {},
   "source": [
    "分析分析有哪些有趣的地方??\n",
    "最大面积? 最小面积?\n",
    "最贵的房子, 最便宜的房子?"
   ]
  },
  {
   "cell_type": "code",
   "execution_count": 17,
   "id": "046ae757",
   "metadata": {},
   "outputs": [
    {
     "data": {
      "text/plain": [
       "array([215245])"
      ]
     },
     "execution_count": 17,
     "metadata": {},
     "output_type": "execute_result"
    }
   ],
   "source": [
    "max(x_LotArea)"
   ]
  },
  {
   "cell_type": "code",
   "execution_count": 18,
   "id": "3b70f182",
   "metadata": {},
   "outputs": [
    {
     "data": {
      "text/plain": [
       "array([755000])"
      ]
     },
     "execution_count": 18,
     "metadata": {},
     "output_type": "execute_result"
    }
   ],
   "source": [
    "max(y_SalePrice)"
   ]
  },
  {
   "cell_type": "code",
   "execution_count": 20,
   "id": "670bdb0d",
   "metadata": {},
   "outputs": [
    {
     "data": {
      "text/plain": [
       "count      1460.000000\n",
       "mean     180921.195890\n",
       "std       79442.502883\n",
       "min       34900.000000\n",
       "25%      129975.000000\n",
       "50%      163000.000000\n",
       "75%      214000.000000\n",
       "max      755000.000000\n",
       "Name: SalePrice, dtype: float64"
      ]
     },
     "execution_count": 20,
     "metadata": {},
     "output_type": "execute_result"
    }
   ],
   "source": [
    "RawData['SalePrice'].describe()"
   ]
  },
  {
   "cell_type": "markdown",
   "id": "de2a58c1",
   "metadata": {},
   "source": [
    "我多说一句啊朋友们, 你们知道单位不?\n",
    "\n",
    "记好了啊, 到时候画图单位记得标上, 否则一律认为8450平方公里的房子卖208500越南盾"
   ]
  },
  {
   "cell_type": "markdown",
   "id": "477170dd",
   "metadata": {},
   "source": [
    "看看大概长啥样???"
   ]
  },
  {
   "cell_type": "code",
   "execution_count": 16,
   "id": "d1cdff08",
   "metadata": {},
   "outputs": [
    {
     "data": {
      "image/png": "[encoded data removed]",
      "text/plain": [
       "<Figure size 432x288 with 1 Axes>"
      ]
     },
     "metadata": {
      "needs_background": "light"
     },
     "output_type": "display_data"
    }
   ],
   "source": [
    "# 绘制散点图\n",
    "import matplotlib.pyplot as plt\n",
    "plt.plot(x_LotArea, y_SalePrice, 'b.')#点\n",
    "plt.show()"
   ]
  },
  {
   "cell_type": "markdown",
   "id": "edee499e",
   "metadata": {},
   "source": [
    "我画的是LotArea不是Living Area, 你看看需要画啥, 别画错了!\n",
    "\n",
    "我画的是LotArea不是Living Area, 你看看需要画啥, 别画错了!\n",
    "\n",
    "我画的是LotArea不是Living Area, 你看看需要画啥, 别画错了!\n",
    "\n",
    "我画的是LotArea不是Living Area, 你看看需要画啥, 别画错了!\n",
    "\n",
    "我画的是LotArea不是Living Area, 你看看需要画啥, 别画错了!"
   ]
  },
  {
   "cell_type": "markdown",
   "id": "ad5219f6",
   "metadata": {},
   "source": [
    "# 划分训练集和测试集"
   ]
  },
  {
   "cell_type": "code",
   "execution_count": 10,
   "id": "e70ae2c6",
   "metadata": {},
   "outputs": [],
   "source": [
    "from sklearn.model_selection import train_test_split\n",
    "\n",
    "x_LotArea_Train, x_LotArea_Test, \\\n",
    "y_SalePrice_Train, y_SalePrice_Test = \\\n",
    "    train_test_split(x_LotArea, y_SalePrice, \\\n",
    "                     test_size=0.2, random_state=42)"
   ]
  },
  {
   "cell_type": "code",
   "execution_count": 12,
   "id": "853ed76d",
   "metadata": {},
   "outputs": [
    {
     "name": "stdout",
     "output_type": "stream",
     "text": [
      "[[8400]\n",
      " [7837]\n",
      " [8777]\n",
      " ...\n",
      " [8172]\n",
      " [7642]\n",
      " [3684]]\n"
     ]
    }
   ],
   "source": [
    "print(x_LotArea_Train)"
   ]
  },
  {
   "cell_type": "markdown",
   "id": "1706c8c9",
   "metadata": {},
   "source": [
    "Good!"
   ]
  },
  {
   "cell_type": "markdown",
   "id": "f3087141",
   "metadata": {},
   "source": [
    "# 选择你想使用的模型"
   ]
  },
  {
   "cell_type": "markdown",
   "id": "2a56c2aa",
   "metadata": {},
   "source": [
    "我画的是LotArea不是Living Area, 你看看需要画啥, 别画错了!\n",
    "\n",
    "我画的是LotArea不是Living Area, 你看看需要画啥, 别画错了!\n",
    "\n",
    "我画的是LotArea不是Living Area, 你看看需要画啥, 别画错了!\n",
    "\n",
    "我画的是LotArea不是Living Area, 你看看需要画啥, 别画错了!\n",
    "\n",
    "我画的是LotArea不是Living Area, 你看看需要画啥, 别画错了!"
   ]
  },
  {
   "cell_type": "markdown",
   "id": "10ffeca1",
   "metadata": {},
   "source": [
    "## 如果你想使用Linear Regression"
   ]
  },
  {
   "cell_type": "markdown",
   "id": "5e4284c0",
   "metadata": {},
   "source": [
    "请参考我们的Week4讲义倒数第二部分\n",
    "然后你记得把变量换了!!!!!!!!!!!!!!!!\n",
    "\n",
    "千万记得你训练完了和测试集对比一下.\n",
    "\n",
    "看看week5讲义最后一点!!....\n"
   ]
  },
  {
   "cell_type": "markdown",
   "id": "9ac63798",
   "metadata": {},
   "source": [
    "## 如果你想使用RANSAC"
   ]
  },
  {
   "cell_type": "markdown",
   "id": "8b889d6f",
   "metadata": {},
   "source": [
    "请参考我们的Week4讲义最后一部分\n",
    "然后你记得把变量换了!!!!!!!!!!!!!!!!\n",
    "\n",
    "千万记得你训练完了和测试集对比一下.\n",
    "\n",
    "看看week5讲义最后一点!!...."
   ]
  },
  {
   "cell_type": "markdown",
   "id": "d8c72709",
   "metadata": {},
   "source": [
    "## 如果你想使用多项式回归"
   ]
  },
  {
   "cell_type": "markdown",
   "id": "a5010ec3",
   "metadata": {},
   "source": [
    "那就先用多项式模套一下"
   ]
  },
  {
   "cell_type": "code",
   "execution_count": 25,
   "id": "37ebcc60",
   "metadata": {},
   "outputs": [
    {
     "data": {
      "text/plain": [
       "LinearRegression()"
      ]
     },
     "execution_count": 25,
     "metadata": {},
     "output_type": "execute_result"
    }
   ],
   "source": [
    "#导入线性回归模型\n",
    "from sklearn.linear_model import LinearRegression \n",
    "# 导入多项式回\n",
    "from sklearn.preprocessing import PolynomialFeatures\n",
    "from sklearn import linear_model\n",
    "\n",
    "# 确定我们的多项式模型是一个二阶的\n",
    "quadratic_featurizer=PolynomialFeatures(degree=2)\n",
    "\n",
    "# 确定一个多项式模型\n",
    "x_LotArea_Train_quadratic = \\\n",
    "    quadratic_featurizer.fit_transform(x_LotArea_Train)\n",
    "\n",
    "# 创建一个线性回归实例\n",
    "regressor_model=linear_model.LinearRegression()\n",
    "\n",
    "# 以多项式变换后的x值为输入，带入线性回归模型做训练\n",
    "regressor_model.fit(x_LotArea_Train_quadratic,y_SalePrice_Train)\n"
   ]
  },
  {
   "cell_type": "code",
   "execution_count": 26,
   "id": "1364d816",
   "metadata": {},
   "outputs": [
    {
     "name": "stdout",
     "output_type": "stream",
     "text": [
      "[[1.0000000e+00 8.4000000e+03 7.0560000e+07]\n",
      " [1.0000000e+00 7.8370000e+03 6.1418569e+07]\n",
      " [1.0000000e+00 8.7770000e+03 7.7035729e+07]\n",
      " ...\n",
      " [1.0000000e+00 8.1720000e+03 6.6781584e+07]\n",
      " [1.0000000e+00 7.6420000e+03 5.8400164e+07]\n",
      " [1.0000000e+00 3.6840000e+03 1.3571856e+07]]\n"
     ]
    }
   ],
   "source": [
    "print(x_LotArea_Train_quadratic)"
   ]
  },
  {
   "cell_type": "code",
   "execution_count": 29,
   "id": "ad65986f",
   "metadata": {
    "scrolled": true
   },
   "outputs": [
    {
     "name": "stdout",
     "output_type": "stream",
     "text": [
      "二次回归 r-squared 0.11362960569438085\n"
     ]
    },
    {
     "data": {
      "image/png": "[encoded data removed]",
      "text/plain": [
       "<Figure size 432x288 with 1 Axes>"
      ]
     },
     "metadata": {
      "needs_background": "light"
     },
     "output_type": "display_data"
    }
   ],
   "source": [
    "import numpy as np\n",
    "# 设计x轴一系列点作为画图的x点集\n",
    "x_LotArea_Train_Plot = \\\n",
    "    np.linspace(0,250000)\n",
    "\n",
    "# 把训练好X值的多项式特征实例应用到一系列点上,形成矩阵\n",
    "\n",
    "x_LotArea_Train_Plot_Qua = quadratic_featurizer.transform(\\\n",
    "                x_LotArea_Train_Plot.reshape(\\\n",
    "                        x_LotArea_Train_Plot.shape[0], 1))\n",
    "\n",
    "y_SalePrice_Train_Plot_Qua = regressor_model.predict(\\\n",
    "                                x_LotArea_Train_Plot_Qua)\n",
    "\n",
    "# 用训练好的模型作图\n",
    "\n",
    "plt.plot(x_LotArea_Train_Plot,\\\n",
    "         y_SalePrice_Train_Plot_Qua, 'r-')\n",
    "\n",
    "x_LotArea_Test_Qua =\\\n",
    "    quadratic_featurizer.transform(x_LotArea_Test)\n",
    "\n",
    "print('二次回归 r-squared',\\\n",
    "      regressor_model.score(x_LotArea_Test_Qua,\\\n",
    "                            y_SalePrice_Test))\n",
    "\n",
    "# plt.show() # 展示图像"
   ]
  },
  {
   "cell_type": "markdown",
   "id": "cd31e621",
   "metadata": {},
   "source": [
    "这他妈的"
   ]
  },
  {
   "cell_type": "markdown",
   "id": "1efd5545",
   "metadata": {},
   "source": [
    "## 如果你想使用LASSO"
   ]
  },
  {
   "cell_type": "markdown",
   "id": "31bcbbe7",
   "metadata": {},
   "source": [
    "你用这玩意儿干啥?"
   ]
  },
  {
   "cell_type": "code",
   "execution_count": 33,
   "id": "a9fbe7e3",
   "metadata": {},
   "outputs": [],
   "source": [
    "from sklearn.linear_model import Lasso\n",
    "\n",
    "lasso = Lasso() # 默认alpha =1 \n",
    "lasso.fit(x_LotArea_Train,y_SalePrice_Train)\n",
    "\n",
    "train_score=lasso.score(x_LotArea_Train,\\\n",
    "                        y_SalePrice_Train)\n",
    "test_score=lasso.score(x_LotArea_Train,\\\n",
    "                       y_SalePrice_Train)"
   ]
  },
  {
   "cell_type": "code",
   "execution_count": 36,
   "id": "ad51fb52",
   "metadata": {},
   "outputs": [
    {
     "name": "stdout",
     "output_type": "stream",
     "text": [
      "0.07086431179664954\n"
     ]
    }
   ],
   "source": [
    "print(train_score)"
   ]
  },
  {
   "cell_type": "markdown",
   "id": "3f651b10",
   "metadata": {},
   "source": [
    "## 如果你想使用决策树"
   ]
  },
  {
   "cell_type": "code",
   "execution_count": 39,
   "id": "1b75fa41",
   "metadata": {},
   "outputs": [
    {
     "name": "stdout",
     "output_type": "stream",
     "text": [
      "[152314.22360248 152314.22360248 170756.61363636 ... 152314.22360248\n",
      " 152314.22360248 146952.51079137]\n"
     ]
    }
   ],
   "source": [
    "from sklearn.tree import DecisionTreeRegressor\n",
    "\n",
    "DT_Reg = DecisionTreeRegressor(criterion='mse',\\\n",
    "                               max_depth=4,\\\n",
    "                               min_samples_leaf=0.1, \\\n",
    "                               random_state = 42)\n",
    "DT_Reg.fit(x_LotArea_Train,\\\n",
    "                        y_SalePrice_Train)\n",
    "\n",
    "y_sale_price_Train_pred =\\\n",
    "    DT_Reg.predict(x_LotArea_Train)\n"
   ]
  },
  {
   "cell_type": "markdown",
   "id": "663afba7",
   "metadata": {},
   "source": [
    "不能再写了..再写作弊了.."
   ]
  },
  {
   "cell_type": "markdown",
   "id": "62daacd7",
   "metadata": {},
   "source": [
    "## 如果你想使用随机森林"
   ]
  },
  {
   "cell_type": "code",
   "execution_count": null,
   "id": "1c5006e6",
   "metadata": {},
   "outputs": [],
   "source": [
    "# 训练随机森林解决回归问题\n",
    "from sklearn.ensemble import RandomForestRegressor\n",
    "\n",
    "regressor = RandomForestRegressor(n_estimators=200, random_state=0)\n",
    "regressor.fit(x_LotArea_Train, y_LotArea_Train.raval)\n",
    "y_pred = regressor.predict(x_LotArea_Train)\n"
   ]
  },
  {
   "cell_type": "markdown",
   "id": "040aadd7",
   "metadata": {},
   "source": [
    "## 写在最后"
   ]
  },
  {
   "cell_type": "markdown",
   "id": "910e7ab9",
   "metadata": {},
   "source": [
    "请大家参加直播课程呀!\n",
    "\n",
    "有很多实用干货和代码案例! 并且负责答疑~"
   ]
  },
  {
   "cell_type": "code",
   "execution_count": null,
   "id": "6c59b1a3",
   "metadata": {},
   "outputs": [],
   "source": []
  }
 ],
 "metadata": {
  "kernelspec": {
   "display_name": "Python 3",
   "language": "python",
   "name": "python3"
  },
  "language_info": {
   "codemirror_mode": {
    "name": "ipython",
    "version": 3
   },
   "file_extension": ".py",
   "mimetype": "text/x-python",
   "name": "python",
   "nbconvert_exporter": "python",
   "pygments_lexer": "ipython3",
   "version": "3.8.8"
  }
 },
 "nbformat": 4,
 "nbformat_minor": 5
}
