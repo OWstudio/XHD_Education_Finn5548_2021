{
 "cells": [
  {
   "cell_type": "markdown",
   "id": "6dc5e89a",
   "metadata": {},
   "source": [
    "# Week 5: 训练集的划分 与 多项式回归模型"
   ]
  },
  {
   "cell_type": "markdown",
   "id": "2508834e",
   "metadata": {},
   "source": [
    "在Week5的学习里, 我们主要熟悉两个概念:\n",
    "\n",
    "1. 对于一个数据集, 我们怎么做测试, 怎么去训练他\n",
    "2. 如何使用多项式回归模型\n",
    "\n",
    "注意了! 我们的要求还是: 掌握概念和思路, 不用在具体实现上浪费太多精力."
   ]
  },
  {
   "cell_type": "markdown",
   "id": "29162199",
   "metadata": {},
   "source": [
    "## 机器学习"
   ]
  },
  {
   "cell_type": "markdown",
   "id": "bf465d33",
   "metadata": {},
   "source": [
    "其实我们现在所学习到的所有例子, 和真正的机器学习还差很远.\n",
    "\n",
    "但是我们一旦掌握了基础的思路和概念, 我们就知道了学习的方向在哪里, 这样的话遇到了具体的实现问题, 我们就方便对症下药!\n",
    "查看文档的效率也会大大提高.\n",
    "\n",
    "在这个note里, 我们首先以文字的形式重温老师的内容, 然后再补充一些大家可能会在写作业的过程中用到的一些概念."
   ]
  },
  {
   "cell_type": "markdown",
   "id": "a6ddefc6",
   "metadata": {},
   "source": [
    "### 机器学习的最简要流程是什么??"
   ]
  },
  {
   "cell_type": "markdown",
   "id": "f8104c62",
   "metadata": {},
   "source": [
    "机器学习简单流程：\n",
    "\n",
    "1. 使用大量和任务相关的数据集来训练模型；\n",
    "2. 通根据误差不断重复, 调整训练模型的参数和方法；\n",
    "3. 从逻辑上确认模型的适用性, 评估模型\n",
    "3. 应用!\n",
    "\n",
    "总而言之, 我们希望模型在真实数据上预测的结果误差越小越好!"
   ]
  },
  {
   "cell_type": "markdown",
   "id": "8c65d94a",
   "metadata": {},
   "source": [
    "### 怎么减少误差呢??"
   ]
  },
  {
   "cell_type": "markdown",
   "id": "e74a0de2",
   "metadata": {},
   "source": [
    "我们想减少误差, 最直观的就是我们把模型用到真实数据上去.\n",
    "\n",
    "但是如果误差一下就很小?\n",
    "那还是正常生活吗!?\n",
    "\n",
    "通常情况下没有那么幸运，误差可能很大，这个时候你肯定会重新训练模型，可能需要往复很多次, 这种方式虽然能够更好的指导我们的模型，但是成本和效率非常的差! 也就是说这个方法经济性很差..."
   ]
  },
  {
   "cell_type": "markdown",
   "id": "d1720705",
   "metadata": {},
   "source": [
    "如果我们往后退几步: 我们就从训练数据集上看, 我们可以使用模型在数据集本身的训练的拟合程度\n",
    "\n",
    "但是呢!\n",
    "往往我们获取的数据集并不是完全代表性地\n",
    "通常我们获取到的数据集可能很少、数据的代表性不够、包含太多的无效数据，\n",
    "那么模型对训练数据集的拟合程度就有一些\"toy model\"的感觉了\n",
    "你甚至可以将模型在数据集上的误差减小到0\n",
    "\n",
    "但是因为对模型训练时候的数据集往往不干净\n",
    "所以这样的模型也不一定很有效.."
   ]
  },
  {
   "cell_type": "markdown",
   "id": "d9561966",
   "metadata": {},
   "source": [
    "### 训练集与测试集"
   ]
  },
  {
   "cell_type": "markdown",
   "id": "e3055fa8",
   "metadata": {},
   "source": [
    "一个方式就是将数据分割成两部分\n",
    "训练集和测试集\n",
    "\n",
    "我们可以使用训练集的数据来训练模型，然后用测试集上的误差作为最终模型的误差\n",
    "\n",
    "有了测试集，我们想要验证模型的最终效果，只需将训练好的模型在测试集上计算误差，即可认为此误差即为真实情况下的的近似\n",
    "我们只需让我们训练好的模型在测试集上的误差最小即可!"
   ]
  },
  {
   "cell_type": "markdown",
   "id": "ce71958f",
   "metadata": {},
   "source": [
    "还记得老师上课画的红色长方形么!! 就是你的信用卡使用信息的那个例子!"
   ]
  },
  {
   "cell_type": "markdown",
   "id": "5c11422a",
   "metadata": {},
   "source": [
    "### 如何划分数据集为训练集和测试集??"
   ]
  },
  {
   "cell_type": "markdown",
   "id": "ce70445e",
   "metadata": {},
   "source": [
    "我们一点一点的探索一个简单一点的例子"
   ]
  },
  {
   "cell_type": "code",
   "execution_count": 37,
   "id": "fbc572c5",
   "metadata": {},
   "outputs": [
    {
     "data": {
      "image/png": "[encoded data removed]",
      "text/plain": [
       "<Figure size 432x288 with 1 Axes>"
      ]
     },
     "metadata": {
      "needs_background": "light"
     },
     "output_type": "display_data"
    }
   ],
   "source": [
    "import numpy as np\n",
    "import matplotlib.pyplot as plt\n",
    "\n",
    "# 搞一点随机数, 这个你不用知道.\n",
    "data_1 = numpy.random.seed(2)\n",
    "x = numpy.random.normal(3, 1, 100)\n",
    "y = (numpy.random.normal(150, 40, 100) / x)\n",
    "\n",
    "xreshaped = x.reshape(-1, 1)\n",
    "yreshaped = y.reshape(-1, 1)\n",
    "\n",
    "data = np.hstack((xreshaped,yreshaped))\n",
    "\n",
    "plt.scatter(x, y)\n",
    "plt.show() "
   ]
  },
  {
   "cell_type": "markdown",
   "id": "a36750b8",
   "metadata": {},
   "source": [
    "在上面的这个代码里, 我创建了一些有趋势的随机数, 关于这个随机数的生成, 大家不用关心太多.\n",
    "\n",
    "我们假设上面的数据集是关于 客户进店之后花了x分钟的时间, 购买了y价格的产品.\n",
    "也就是说\n",
    "x轴上的数据 = 在店里呆了多少分钟\n",
    "y轴上的数据 = 购买的产品的价格"
   ]
  },
  {
   "cell_type": "code",
   "execution_count": 38,
   "id": "b53375bc",
   "metadata": {
    "scrolled": true
   },
   "outputs": [],
   "source": [
    "from sklearn.model_selection import train_test_split\n",
    "#data:需要进行分割的数据集\n",
    "#random_state:设置随机种子，保证每次运行生成相同的随机数\n",
    "#test_size:将数据分割成训练集的比例\n",
    "train_set, test_set = train_test_split(data, test_size=0.2, random_state=42)"
   ]
  },
  {
   "cell_type": "code",
   "execution_count": 21,
   "id": "d6d6e405",
   "metadata": {
    "scrolled": false
   },
   "outputs": [
    {
     "name": "stdout",
     "output_type": "stream",
     "text": [
      "[[4.24821292e+00 4.01521374e+01]\n",
      " [2.92552924e+00 2.29755043e+01]\n",
      " [2.34674973e+00 9.00268187e+01]\n",
      " [2.66432266e+00 7.08752193e+01]\n",
      " [4.46767801e+00 6.29386933e+01]\n",
      " [3.54235257e+00 4.37732168e+01]\n",
      " [3.25657045e+00 4.20862374e+01]\n",
      " [2.81053074e+00 7.23787305e+01]\n",
      " [3.55145404e+00 3.85751901e+01]\n",
      " [2.58324215e+00 7.60520493e+01]\n",
      " [2.25212905e+00 1.11901904e+02]\n",
      " [2.73094304e+00 5.32501579e+01]\n",
      " [3.06648901e+00 5.90131844e+01]\n",
      " [3.11272650e+00 5.57924574e+01]\n",
      " [3.38186623e+00 5.57181345e+01]\n",
      " [1.20656441e+00 1.14238859e+02]\n",
      " [3.40550544e-01 4.87037268e+02]\n",
      " [2.90854738e+00 4.72453375e+01]\n",
      " [3.04153939e+00 3.74514818e+01]\n",
      " [5.23136679e+00 2.48640628e+01]]\n"
     ]
    }
   ],
   "source": [
    "print(test_set)"
   ]
  },
  {
   "cell_type": "markdown",
   "id": "55412d50",
   "metadata": {},
   "source": [
    "现在就完成了本节课的第一个知识点! 数据集的划分\n",
    "\n",
    "我们总结起来, 有三个需要注意的:\n",
    "1. 我们需要知道那个数据集\n",
    "2. 调用正确的package\n",
    "3. 使用函数划分"
   ]
  },
  {
   "cell_type": "markdown",
   "id": "4931c9ef",
   "metadata": {},
   "source": [
    "## 多项式拟合"
   ]
  },
  {
   "cell_type": "markdown",
   "id": "7a7dae1c",
   "metadata": {},
   "source": [
    "我不太清楚老师为啥讲这个拟合\n",
    "\n",
    "但是我在学习这些理论的时候, 老师说过, 多项式拟合是你最不应该使用的\n",
    "但无论如何, 让我们来简单看一下"
   ]
  },
  {
   "cell_type": "code",
   "execution_count": 39,
   "id": "8393138b",
   "metadata": {},
   "outputs": [
    {
     "name": "stdout",
     "output_type": "stream",
     "text": [
      "[4.27837923 2.53799465 2.36234499 1.13190935 3.73527958 2.4038403\n",
      " 2.6864918  3.38047197 2.09099239 2.61848352 5.29220801 3.04797059\n",
      " 1.61548133 1.57878277 4.40669624 2.15825263 2.32232442 3.04625552\n",
      " 4.35963386 2.9808695  3.08771022 3.37044454 1.75471191 4.04082395\n",
      " 1.81238771 3.00902525 2.92278133 2.76381597 2.96042976 1.88207455\n",
      " 2.66117803 4.64027081 4.17500122 3.00000976 1.94204778 3.69511961\n",
      " 3.50288142 0.95967695 3.50185721 3.35088849 2.36532069 0.65639681\n",
      " 3.43349633 4.73118467 4.00036589 1.56056097 3.61134078 3.52429643\n",
      " 2.8676711  2.78286473 0.96653345 3.77101174 3.21611601 2.17086471\n",
      " 4.1735315  3.50839624 4.58448706 0.56523242 1.2620405  1.14138761\n",
      " 3.32600343 2.59610773 2.1557863  2.8465048  2.94373317 2.62433058\n",
      " 2.84356583 0.8638039  2.01122095 4.21788563 3.56627544 1.90126105\n",
      " 4.36723542 3.82470301 2.12189211 2.58068352 3.84245628 3.53905832\n",
      " 3.20420798 2.61890748]\n"
     ]
    }
   ],
   "source": [
    "print(train_set[:,0])"
   ]
  },
  {
   "cell_type": "code",
   "execution_count": 42,
   "id": "5cda256b",
   "metadata": {},
   "outputs": [
    {
     "name": "stdout",
     "output_type": "stream",
     "text": [
      "[ 39.01941998  64.76189111  76.22874513  77.86225629  48.95077634\n",
      "  53.79918302  34.70979433  46.50723143  60.57574247  62.86162946\n",
      "  24.10914678  43.58292288 108.46604975 123.11113005  27.61777936\n",
      " 117.41526024  68.74904453  59.1743156   43.76381026  40.94657678\n",
      "  57.61442568  42.32964984  95.52998052  54.98360439  60.83111238\n",
      "  30.26663537  55.46264153  72.54627253  44.34023444  67.13926856\n",
      "  68.37843898  36.05903817  27.02857247  56.63901768  62.4237197\n",
      "  34.16662793  63.77986643 161.50533328  25.90093643  52.19177448\n",
      "  82.32095959 208.47130994  50.79538368  14.09666443  43.5111781\n",
      " 108.8692008   61.39097018  89.19445659  65.39332448  61.85229524\n",
      " 202.76589695  37.10649687  68.30365792  81.92492065  45.84155234\n",
      "  39.62788318  25.07604874 190.30762228  80.14230427 115.73628743\n",
      "  30.00934597  70.55883508  85.28325651  27.89501382  56.20180641\n",
      "  53.67848811  58.83311239 121.17874037  83.01076429  32.35727584\n",
      "  50.5667094   71.22685026  21.035144    34.46826737  51.4368334\n",
      "  38.66530343  18.36485932  39.26265343  32.65308038  57.3316853 ]\n"
     ]
    }
   ],
   "source": [
    "print(train_set[:,1])"
   ]
  },
  {
   "cell_type": "code",
   "execution_count": 40,
   "id": "9a69509d",
   "metadata": {},
   "outputs": [
    {
     "name": "stdout",
     "output_type": "stream",
     "text": [
      "[ 4.27837923 39.01941998]\n"
     ]
    }
   ],
   "source": [
    "print(train_set[0,:])"
   ]
  },
  {
   "cell_type": "code",
   "execution_count": 45,
   "id": "c84845b9",
   "metadata": {},
   "outputs": [
    {
     "data": {
      "image/png": "[encoded data removed]",
      "text/plain": [
       "<Figure size 432x288 with 1 Axes>"
      ]
     },
     "metadata": {
      "needs_background": "light"
     },
     "output_type": "display_data"
    }
   ],
   "source": [
    "import numpy as np\n",
    "import matplotlib.pyplot as plt\n",
    "\n",
    "# 搞一点随机数, 这个你不用知道.\n",
    "data_1 = numpy.random.seed(2)\n",
    "x = numpy.random.normal(3, 1, 100)\n",
    "y = (numpy.random.normal(150, 40, 100) / x)\n",
    "\n",
    "xreshaped = x.reshape(-1, 1)\n",
    "yreshaped = y.reshape(-1, 1)\n",
    "\n",
    "data = np.hstack((xreshaped,yreshaped))\n",
    "train_set, test_set = train_test_split(data, test_size=0.2, random_state=42)\n",
    "\n",
    "mymodel = numpy.poly1d(numpy.polyfit(train_set[:,0], train_set[:,1], 4))\n",
    "\n",
    "myline = numpy.linspace(0, 6, 100)\n",
    "\n",
    "plt.scatter(train_set[:,0], train_set[:,1])\n",
    "plt.plot(myline, mymodel(myline))\n",
    "plt.show() "
   ]
  },
  {
   "cell_type": "code",
   "execution_count": 48,
   "id": "74363122",
   "metadata": {},
   "outputs": [
    {
     "name": "stdout",
     "output_type": "stream",
     "text": [
      "0.7881221165549795\n"
     ]
    }
   ],
   "source": [
    "import numpy\n",
    "from sklearn.metrics import r2_score\n",
    "r2 = r2_score(train_set[:,1], mymodel(train_set[:,0]))\n",
    "\n",
    "print(r2) "
   ]
  },
  {
   "cell_type": "code",
   "execution_count": 50,
   "id": "44bde35f",
   "metadata": {},
   "outputs": [
    {
     "name": "stdout",
     "output_type": "stream",
     "text": [
      "0.642906690628704\n"
     ]
    }
   ],
   "source": [
    "mymodel = numpy.poly1d(numpy.polyfit(train_set[:,0], train_set[:,1], 4))\n",
    "\n",
    "r2 = r2_score(test_set[:,1], mymodel(test_set[:,0]))\n",
    "\n",
    "print(r2) "
   ]
  },
  {
   "cell_type": "code",
   "execution_count": 51,
   "id": "7aeef2bb",
   "metadata": {},
   "outputs": [
    {
     "name": "stdout",
     "output_type": "stream",
     "text": [
      "23.719971982434174\n"
     ]
    }
   ],
   "source": [
    "print(mymodel(5)) "
   ]
  },
  {
   "cell_type": "markdown",
   "id": "29517542",
   "metadata": {},
   "source": []
  },
  {
   "cell_type": "markdown",
   "id": "2779e2c5",
   "metadata": {},
   "source": []
  },
  {
   "cell_type": "markdown",
   "id": "27173cec",
   "metadata": {},
   "source": []
  },
  {
   "cell_type": "markdown",
   "id": "716a871d",
   "metadata": {},
   "source": []
  },
  {
   "cell_type": "markdown",
   "id": "a3aacdc4",
   "metadata": {},
   "source": []
  },
  {
   "cell_type": "markdown",
   "id": "7461ad90",
   "metadata": {},
   "source": []
  },
  {
   "cell_type": "markdown",
   "id": "51493743",
   "metadata": {},
   "source": []
  },
  {
   "cell_type": "markdown",
   "id": "6efd0076",
   "metadata": {},
   "source": []
  },
  {
   "cell_type": "markdown",
   "id": "38f9ee50",
   "metadata": {},
   "source": []
  },
  {
   "cell_type": "markdown",
   "id": "4e07b205",
   "metadata": {},
   "source": []
  },
  {
   "cell_type": "markdown",
   "id": "1345c86f",
   "metadata": {},
   "source": []
  },
  {
   "cell_type": "markdown",
   "id": "5c0f290f",
   "metadata": {},
   "source": []
  },
  {
   "cell_type": "markdown",
   "id": "ad8e4e51",
   "metadata": {},
   "source": []
  },
  {
   "cell_type": "markdown",
   "id": "f256f57e",
   "metadata": {},
   "source": []
  }
 ],
 "metadata": {
  "kernelspec": {
   "display_name": "Python 3",
   "language": "python",
   "name": "python3"
  },
  "language_info": {
   "codemirror_mode": {
    "name": "ipython",
    "version": 3
   },
   "file_extension": ".py",
   "mimetype": "text/x-python",
   "name": "python",
   "nbconvert_exporter": "python",
   "pygments_lexer": "ipython3",
   "version": "3.8.8"
  }
 },
 "nbformat": 4,
 "nbformat_minor": 5
}
