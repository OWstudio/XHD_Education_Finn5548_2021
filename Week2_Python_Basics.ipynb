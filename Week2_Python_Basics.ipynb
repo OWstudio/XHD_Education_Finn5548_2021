{
 "cells": [
  {
   "cell_type": "markdown",
   "id": "favorite-malaysia",
   "metadata": {},
   "source": [
    "# Week 2 Python Basics\n",
    "by OW - 14.June.2021"
   ]
  },
  {
   "cell_type": "markdown",
   "id": "otherwise-momentum",
   "metadata": {},
   "source": [
    "在这节课里面, 我们为大家讲解一下week2里, 我们需要使用的Python的一些基础知识\n",
    "首先我们还是要强调一点, 大家一定要花一定的时间去尝试老师在ED-platform上给出的那些例子\n",
    "这里, 给大家一个关于尝试例子的建议:\n",
    "1. 大家随意更改代码, 查看能获得什么样的结果, 千万不要只是点一个run看一下结果\n",
    "2. 更改玩代码之后, 先思考一下我们应该获得什么样的结果, 然后检查你的预期和计算机给出的结果是否相同\n",
    "\n",
    "如果大家有什么问题, 可以在微信群找到Bob老师, 或者我本人, 咨询相关的问题"
   ]
  },
  {
   "cell_type": "markdown",
   "id": "scientific-officer",
   "metadata": {},
   "source": [
    "## 现在我们回顾一下上节课所学习的内容"
   ]
  },
  {
   "cell_type": "markdown",
   "id": "perceived-storage",
   "metadata": {},
   "source": [
    "在上一节课, 我们学习了如何安装Anaconda Individual版本, 我希望大家已经清晰地了解到了整个过程\n",
    "如果还没有安装好Anaconda的同学, 请与我取得联系, 我来指导你如何安装\n",
    "\n",
    "安装好了Anaconda的同学, 请你检查你的spyder是否更新到了最新的版本, 以及你时候已经可以运行了一个简单的程序了"
   ]
  },
  {
   "cell_type": "markdown",
   "id": "strong-brook",
   "metadata": {},
   "source": [
    "## 现在我来介绍一个我们的课程平台"
   ]
  },
  {
   "cell_type": "markdown",
   "id": "quick-syndication",
   "metadata": {},
   "source": [
    "大家现在看到的这个页面, 是我使用Jupyter notebook编写的, 首先我强调一点, 那就是我们并不需要掌握Jupyter notebook, 这是和课程无关的一些知识!\n",
    "\n",
    "我使用这个平台, 只是因为我可以使用markdown把一些文字性的叙事写在这里, 方便大家对照, 阅读起来更加流畅和自然\n",
    "\n",
    "而且你们可以直接在这个笔记本里运行我为大家准备好的代码. 我们做一个简单的测试\n"
   ]
  },
  {
   "cell_type": "code",
   "execution_count": 1,
   "id": "handled-kentucky",
   "metadata": {},
   "outputs": [
    {
     "name": "stdout",
     "output_type": "stream",
     "text": [
      "这他妈是个啥\n"
     ]
    }
   ],
   "source": [
    "print('这他妈是个啥')"
   ]
  },
  {
   "cell_type": "markdown",
   "id": "touched-stick",
   "metadata": {},
   "source": [
    "大家可以看到, 相当于我们在Spyder里输入了一个命令, 然后单击运行\n",
    "运行出来的结果, 就相当于我们在Spyder右下角里看到的东西!\n",
    "\n",
    "我强烈建议你手动的把这些代码打进去, 检查一下你能否获得相同的结果.\n",
    "\n",
    "如果大家有什么问题, 可以在微信群找到Bob老师, 或者我本人, 咨询相关的问题"
   ]
  },
  {
   "cell_type": "markdown",
   "id": "fresh-recommendation",
   "metadata": {},
   "source": [
    "## 现在我们为大家介绍一下这节课你需要理解什么知识点"
   ]
  },
  {
   "cell_type": "markdown",
   "id": "hispanic-wallace",
   "metadata": {},
   "source": [
    "1. 了解整数和浮点数的区别\n",
    "2. 了解加减乘除平方开方多次方多次开方的输入方法\n",
    "3. 了解除法，地板除法，求余数的符号\n",
    "4. 能使用print函数打印一些简单的语句\n",
    "5. 能使用print函数打印一段话, 并且把他们分行\n",
    "6. 了解单引号和双引号\n",
    "7. 能随意的输出双引号和单引号\n",
    "8. 区别变量和常量的\n",
    "9. 能区分list,tuple,dict,set\n",
    "10. 能创建一个list并且熟悉如何添加，删除，修改，访问list里面的元素\n",
    "11. 能创建一个tuple并且熟悉如何访问tuple里面的元素\n",
    "12. 能创建一个dict并且熟悉如何添加，删除，修改，访问dict里面的元素\n",
    "13. 能创建一个set并且熟悉如何添加，删除，修改，访问，数学运算set本身以及里面的元素\n",
    "14. 了解如何调用一个程序包\n",
    "15. ** 尝试熟悉如何求解线性方程组\n",
    "16. ** 尝试熟悉如何使用绘图包绘图，散点图，折线图，柱状图，饼状图"
   ]
  },
  {
   "cell_type": "markdown",
   "id": "equipped-frost",
   "metadata": {},
   "source": [
    "现在为大家提示一下学习的重点\n",
    "1. 能看懂老师在ED-platform上的代码的意义\n",
    "2. 可以尝试通过更改已有代码达成目标\n",
    "3. 学会写注释\n",
    "4. 当你需要写程序解决一个问题的时候, 可以简单的写出来一个步骤"
   ]
  },
  {
   "cell_type": "markdown",
   "id": "optional-bunny",
   "metadata": {},
   "source": [
    "## 第一个主题: 什么是数据类型"
   ]
  },
  {
   "cell_type": "markdown",
   "id": "exterior-davis",
   "metadata": {},
   "source": [
    "数据类型 顾名思义就是讨论一个数据本身的类型, 我们着眼于类型之间的区别, 以及关于这个类型的合法操作. Python能够直接处理的常见的数据类型有以下几类: \n",
    "1. Integer - 整数\n",
    "2. Float - 浮点数\n",
    "3. String - 字符串\n",
    "4. Boolean - 布尔值\n",
    "5. None - 空值\n",
    "6. Variable - 变量\n",
    "7. Constant - 常量\n",
    "8. List - 列表\n",
    "9. Tuple - 有序列表\n",
    "10. Dict - 字典\n",
    "11. Set - 集合"
   ]
  },
  {
   "cell_type": "markdown",
   "id": "vanilla-annual",
   "metadata": {},
   "source": [
    "### 整数"
   ]
  },
  {
   "cell_type": "code",
   "execution_count": 2,
   "id": "extreme-exception",
   "metadata": {},
   "outputs": [
    {
     "name": "stdout",
     "output_type": "stream",
     "text": [
      "100\n",
      "-8080\n",
      "0\n",
      "300\n",
      "-100\n",
      "20000\n",
      "0.5\n",
      "0\n",
      "100\n",
      "10000\n"
     ]
    }
   ],
   "source": [
    "# 整数\n",
    "print(100)\n",
    "print(-8080)\n",
    "print(0)\n",
    "print(100+200)\n",
    "print(100-200)\n",
    "print(100*200)\n",
    "print(100/200) # 取整除 - 返回商的整数部分(向下取整)\n",
    "print(100//200) # 取整除 - 返回商的整数部分(向下取整)\n",
    "print(100%200) # 取模 - 返回除法的余数\n",
    "print(100**2) # 幂 - 返回x的y次幂"
   ]
  },
  {
   "cell_type": "markdown",
   "id": "healthy-smell",
   "metadata": {},
   "source": [
    "### 浮点数"
   ]
  },
  {
   "cell_type": "code",
   "execution_count": 3,
   "id": "cardiovascular-spanish",
   "metadata": {},
   "outputs": [
    {
     "name": "stdout",
     "output_type": "stream",
     "text": [
      "100.0\n",
      "-8080.0\n",
      "0.0\n",
      "300.0\n",
      "-100.0\n",
      "20000.0\n",
      "0.5\n",
      "0.0\n",
      "100.0\n",
      "10000.0\n"
     ]
    }
   ],
   "source": [
    "# 浮点数\n",
    "print(100.0)\n",
    "print(-8080.0)\n",
    "print(0.0)\n",
    "print(100.0+200.0)\n",
    "print(100.0-200.0)\n",
    "print(100.0*200.0)\n",
    "print(100.0/200.0) # 取整除 - 返回商的整数部分(向下取整)\n",
    "print(100.0//200.0) # 取整除 - 返回商的整数部分(向下取整)\n",
    "print(100.0%200.0) # 取模 - 返回除法的余数\n",
    "print(100.0**2.0) # 幂 - 返回x的y次幂"
   ]
  },
  {
   "cell_type": "code",
   "execution_count": 4,
   "id": "caring-clearing",
   "metadata": {},
   "outputs": [],
   "source": [
    "### 字符串"
   ]
  },
  {
   "cell_type": "code",
   "execution_count": 5,
   "id": "mobile-connectivity",
   "metadata": {},
   "outputs": [
    {
     "name": "stdout",
     "output_type": "stream",
     "text": [
      "我真的是一个字符串\n",
      "两个引号扩起来的也是\n"
     ]
    }
   ],
   "source": [
    "# 字符串\n",
    "print('我真的是一个字符串')\n",
    "print(\"两个引号扩起来的也是\")"
   ]
  },
  {
   "cell_type": "markdown",
   "id": "scheduled-rescue",
   "metadata": {},
   "source": [
    "到底什么是字符串?\n",
    "字符串是以单引号'或双引号\"括起来的任意文本, 比如\n",
    "'abc'，\"xyz\"\n",
    "\n",
    "注意，''或\"\"本身只是一种表示方式，不是字符串的一部分\n",
    "\n",
    "因此，字符串'abc'只有a，b，c这3个字符\n",
    "\n",
    "如果'本身也是一个字符，那就可以用\"\"括起来，比如\"I'm OK\"包含的字符是\n",
    "\n",
    "I，'，m，空格，O，K这6个字符"
   ]
  },
  {
   "cell_type": "code",
   "execution_count": 6,
   "id": "genuine-sacramento",
   "metadata": {},
   "outputs": [
    {
     "name": "stdout",
     "output_type": "stream",
     "text": [
      "I'm good\n"
     ]
    }
   ],
   "source": [
    "print('I\\'m good') # 这个斜杠说明我们单纯使用单引号的形式"
   ]
  },
  {
   "cell_type": "code",
   "execution_count": 7,
   "id": "concrete-bermuda",
   "metadata": {},
   "outputs": [
    {
     "name": "stdout",
     "output_type": "stream",
     "text": [
      "I'm 'good'\n"
     ]
    }
   ],
   "source": [
    "print('I\\'m \\'good\\'') #大家自己猜一猜这个含义，（练习1）"
   ]
  },
  {
   "cell_type": "code",
   "execution_count": 8,
   "id": "answering-grocery",
   "metadata": {},
   "outputs": [
    {
     "name": "stdout",
     "output_type": "stream",
     "text": [
      "第一行\n",
      "... 第二行\n",
      "... 第三行\n"
     ]
    }
   ],
   "source": [
    "# 我们如何显示多行文本？\n",
    "# 使用这个格式的，使用的时候可以直接粘贴这个案例然后你自己试试\n",
    "print('''第一行\n",
    "... 第二行\n",
    "... 第三行''') "
   ]
  },
  {
   "cell_type": "code",
   "execution_count": 9,
   "id": "clinical-store",
   "metadata": {},
   "outputs": [
    {
     "name": "stdout",
     "output_type": "stream",
     "text": [
      "假如你真的遇到一大串文字怎么办呢?\n",
      "还真遇到了一大串文字\n",
      "请使用这个格式增加可读性!\n"
     ]
    }
   ],
   "source": [
    "print('''假如你真的遇到一大串文字怎么办呢?\n",
    "... 还真遇到了一大串文字\n",
    "... 请使用这个格式增加可读性!''')"
   ]
  },
  {
   "cell_type": "markdown",
   "id": "miniature-gregory",
   "metadata": {},
   "source": [
    "### 布尔"
   ]
  },
  {
   "cell_type": "code",
   "execution_count": 10,
   "id": "pointed-hormone",
   "metadata": {},
   "outputs": [
    {
     "data": {
      "text/plain": [
       "True"
      ]
     },
     "execution_count": 10,
     "metadata": {},
     "output_type": "execute_result"
    }
   ],
   "source": [
    "# 布尔值\n",
    "3>2"
   ]
  },
  {
   "cell_type": "markdown",
   "id": "overhead-enhancement",
   "metadata": {},
   "source": [
    "布尔值和布尔代数的表示完全一致\n",
    "一个布尔值只有True、False两种值，要么是True，要么是False\n",
    "\n",
    "在Python中，可以直接用True、False表示布尔值（请注意大小写）"
   ]
  },
  {
   "cell_type": "code",
   "execution_count": 11,
   "id": "future-might",
   "metadata": {},
   "outputs": [
    {
     "data": {
      "text/plain": [
       "True"
      ]
     },
     "execution_count": 11,
     "metadata": {},
     "output_type": "execute_result"
    }
   ],
   "source": [
    "True and True"
   ]
  },
  {
   "cell_type": "code",
   "execution_count": 12,
   "id": "adapted-executive",
   "metadata": {},
   "outputs": [
    {
     "data": {
      "text/plain": [
       "False"
      ]
     },
     "execution_count": 12,
     "metadata": {},
     "output_type": "execute_result"
    }
   ],
   "source": [
    "True and False"
   ]
  },
  {
   "cell_type": "code",
   "execution_count": 13,
   "id": "spoken-scroll",
   "metadata": {},
   "outputs": [
    {
     "data": {
      "text/plain": [
       "False"
      ]
     },
     "execution_count": 13,
     "metadata": {},
     "output_type": "execute_result"
    }
   ],
   "source": [
    "False and False"
   ]
  },
  {
   "cell_type": "code",
   "execution_count": 14,
   "id": "active-college",
   "metadata": {},
   "outputs": [
    {
     "name": "stdout",
     "output_type": "stream",
     "text": [
      "adult\n"
     ]
    }
   ],
   "source": [
    "age = 20\n",
    "if age >= 18:\n",
    "    print('adult')\n",
    "else:\n",
    "    print('teenager')"
   ]
  },
  {
   "cell_type": "markdown",
   "id": "alert-station",
   "metadata": {},
   "source": [
    "### 变量"
   ]
  },
  {
   "cell_type": "code",
   "execution_count": 15,
   "id": "going-preparation",
   "metadata": {},
   "outputs": [],
   "source": [
    "# 变量\n",
    "a=1"
   ]
  },
  {
   "cell_type": "markdown",
   "id": "emotional-assets",
   "metadata": {},
   "source": [
    "变量不仅可以是数字\n",
    "还可以是任意数据类型。\n",
    "\n",
    "变量在程序中就是用一个变量名表示了\n",
    "\n",
    "变量名必须是大小写英文、数字和_的组合，且不能用数字开头\n",
    "\n",
    "注意变量=的意义"
   ]
  },
  {
   "cell_type": "code",
   "execution_count": 16,
   "id": "intermediate-sister",
   "metadata": {},
   "outputs": [
    {
     "name": "stdout",
     "output_type": "stream",
     "text": [
      "6\n"
     ]
    }
   ],
   "source": [
    "a=3\n",
    "a=a+3\n",
    "# a = ????\n",
    "print(a)"
   ]
  },
  {
   "cell_type": "markdown",
   "id": "other-sphere",
   "metadata": {},
   "source": [
    "### 常量"
   ]
  },
  {
   "cell_type": "code",
   "execution_count": 17,
   "id": "decent-china",
   "metadata": {},
   "outputs": [
    {
     "name": "stdout",
     "output_type": "stream",
     "text": [
      "2\n"
     ]
    }
   ],
   "source": [
    "# 常量\n",
    "GR1 = 2\n",
    "print(GR1)"
   ]
  },
  {
   "cell_type": "markdown",
   "id": "divided-occasions",
   "metadata": {},
   "source": [
    "### 列表"
   ]
  },
  {
   "cell_type": "code",
   "execution_count": 18,
   "id": "pediatric-integrity",
   "metadata": {},
   "outputs": [
    {
     "data": {
      "text/plain": [
       "6"
      ]
     },
     "execution_count": 18,
     "metadata": {},
     "output_type": "execute_result"
    }
   ],
   "source": [
    "# 列表 - list\n",
    "classmate = ['张三', '李四', '王五', '赵六', '侯七', '马八']\n",
    "len(classmate)"
   ]
  },
  {
   "cell_type": "markdown",
   "id": "inappropriate-montreal",
   "metadata": {},
   "source": [
    "list是一种有序的集合，可以随时添加和删除其中的元素。\n",
    "\n",
    "用索引来访问list中每一个位置的元素，记得索引是从0开始的\n",
    "\n",
    "当索引超出了范围时，Python会报一个IndexError错误，所以，要确保索引不要越界，记得最后一个元素的索引是len(classmates) - 1。\n",
    "\n",
    "如果要取最后一个元素，除了计算索引位置外，还可以用-1做索引，直接获取最后一个元素\n",
    "\n",
    "以此类推，可以获取倒数第2个、倒数第3个\n",
    "\n",
    "list是一个可变的有序表，所以，可以往list中追加元素到末尾, 比如使用 append 方法"
   ]
  },
  {
   "cell_type": "code",
   "execution_count": 19,
   "id": "ceramic-gates",
   "metadata": {},
   "outputs": [
    {
     "data": {
      "text/plain": [
       "['张三', '李四', '王五', '赵六', '侯七', '马八', '郭九']"
      ]
     },
     "execution_count": 19,
     "metadata": {},
     "output_type": "execute_result"
    }
   ],
   "source": [
    "classmate.append('郭九')\n",
    "classmate"
   ]
  },
  {
   "cell_type": "markdown",
   "id": "cultural-bruce",
   "metadata": {},
   "source": [
    "也可以把元素插入到指定的位置，使用insert方法比如索引号为1的位置，："
   ]
  },
  {
   "cell_type": "code",
   "execution_count": 20,
   "id": "subsequent-microphone",
   "metadata": {},
   "outputs": [
    {
     "data": {
      "text/plain": [
       "['张三', '某人1', '李四', '王五', '赵六', '侯七', '马八', '郭九']"
      ]
     },
     "execution_count": 20,
     "metadata": {},
     "output_type": "execute_result"
    }
   ],
   "source": [
    "classmate.insert(1, '某人1')\n",
    "classmate"
   ]
  },
  {
   "cell_type": "markdown",
   "id": "breeding-cartridge",
   "metadata": {},
   "source": [
    "要删除list末尾的元素，用pop()方法："
   ]
  },
  {
   "cell_type": "code",
   "execution_count": 21,
   "id": "funky-gender",
   "metadata": {},
   "outputs": [
    {
     "data": {
      "text/plain": [
       "['张三', '某人1', '李四', '王五', '赵六', '侯七', '马八']"
      ]
     },
     "execution_count": 21,
     "metadata": {},
     "output_type": "execute_result"
    }
   ],
   "source": [
    "classmate.pop()\n",
    "classmate"
   ]
  },
  {
   "cell_type": "markdown",
   "id": "packed-newcastle",
   "metadata": {},
   "source": [
    "要删除指定位置的元素，用pop(i)方法，其中i是索引位置"
   ]
  },
  {
   "cell_type": "code",
   "execution_count": 22,
   "id": "oriental-credits",
   "metadata": {},
   "outputs": [
    {
     "data": {
      "text/plain": [
       "['张三', '某人1', '李四', '赵六', '侯七', '马八']"
      ]
     },
     "execution_count": 22,
     "metadata": {},
     "output_type": "execute_result"
    }
   ],
   "source": [
    "classmate.pop(3)\n",
    "classmate"
   ]
  },
  {
   "cell_type": "markdown",
   "id": "joined-forge",
   "metadata": {},
   "source": [
    "要把某个元素替换成别的元素，可以直接赋值给对应的索引位置"
   ]
  },
  {
   "cell_type": "code",
   "execution_count": 23,
   "id": "adequate-empty",
   "metadata": {},
   "outputs": [
    {
     "data": {
      "text/plain": [
       "['换成别人', '某人1', '李四', '赵六', '侯七', '马八']"
      ]
     },
     "execution_count": 23,
     "metadata": {},
     "output_type": "execute_result"
    }
   ],
   "source": [
    "classmate[0]='换成别人'\n",
    "classmate"
   ]
  },
  {
   "cell_type": "markdown",
   "id": "bulgarian-traffic",
   "metadata": {},
   "source": [
    "list里面的元素的数据类型也可以不同，比如"
   ]
  },
  {
   "cell_type": "code",
   "execution_count": 24,
   "id": "above-supplement",
   "metadata": {},
   "outputs": [],
   "source": [
    "TestList =['Apple', 123, True]"
   ]
  },
  {
   "cell_type": "markdown",
   "id": "forced-diagram",
   "metadata": {},
   "source": [
    "如果一个list中一个元素也没有，就是一个空的list，它的长度为0"
   ]
  },
  {
   "cell_type": "code",
   "execution_count": 25,
   "id": "animal-average",
   "metadata": {},
   "outputs": [
    {
     "data": {
      "text/plain": [
       "0"
      ]
     },
     "execution_count": 25,
     "metadata": {},
     "output_type": "execute_result"
    }
   ],
   "source": [
    "len([])"
   ]
  },
  {
   "cell_type": "markdown",
   "id": "gross-necklace",
   "metadata": {},
   "source": [
    "### 有序列表"
   ]
  },
  {
   "cell_type": "code",
   "execution_count": 26,
   "id": "happy-project",
   "metadata": {},
   "outputs": [],
   "source": [
    "# Tuple - 有序列表\n",
    "classmates = ('张三', '李四', '王五', '赵六', '侯七', '马八')"
   ]
  },
  {
   "cell_type": "markdown",
   "id": "intelligent-hacker",
   "metadata": {},
   "source": [
    "tuple和list非常类似，但是tuple一旦初始化就不能修改，比如同样是列出同学的名字：\n",
    "\n",
    "现在，classmates这个tuple不能变了，它也没有append()，insert()这样的方法。其他获取元素的方法和list是一样的，你可以正常地使用classmates[0]，classmates[-1]，但不能赋值成另外的元素。\n",
    "\n",
    "不可变的tuple有什么意义??????????????????????\n",
    "因为tuple不可变，所以代码更安全。如果可能，能用tuple代替list就尽量用tuple。"
   ]
  },
  {
   "cell_type": "markdown",
   "id": "unnecessary-raleigh",
   "metadata": {},
   "source": [
    "### 字典"
   ]
  },
  {
   "cell_type": "code",
   "execution_count": 27,
   "id": "broad-aruba",
   "metadata": {},
   "outputs": [
    {
     "data": {
      "text/plain": [
       "95"
      ]
     },
     "execution_count": 27,
     "metadata": {},
     "output_type": "execute_result"
    }
   ],
   "source": [
    "# Dict - 字典\n",
    "dictNameScore = {'张三': 95, '李四': 75, '王五': 85}\n",
    "dictNameScore['张三']"
   ]
  },
  {
   "cell_type": "markdown",
   "id": "alleged-compilation",
   "metadata": {},
   "source": [
    "把数据放入dict的方法，除了初始化时指定外，还可以通过key放入："
   ]
  },
  {
   "cell_type": "code",
   "execution_count": 28,
   "id": "bibliographic-absence",
   "metadata": {},
   "outputs": [
    {
     "data": {
      "text/plain": [
       "88"
      ]
     },
     "execution_count": 28,
     "metadata": {},
     "output_type": "execute_result"
    }
   ],
   "source": [
    "dictNameScore['赵六']=88\n",
    "dictNameScore['赵六']"
   ]
  },
  {
   "cell_type": "code",
   "execution_count": 29,
   "id": "fixed-spelling",
   "metadata": {},
   "outputs": [
    {
     "data": {
      "text/plain": [
       "{'张三': 95, '李四': 75, '王五': 85, '赵六': 88}"
      ]
     },
     "execution_count": 29,
     "metadata": {},
     "output_type": "execute_result"
    }
   ],
   "source": [
    "dictNameScore"
   ]
  },
  {
   "cell_type": "markdown",
   "id": "dried-austin",
   "metadata": {},
   "source": [
    "通过dict提供的get()方法，如果key不存在，可以返回None，或者自己指定的value："
   ]
  },
  {
   "cell_type": "code",
   "execution_count": 30,
   "id": "incident-surrey",
   "metadata": {},
   "outputs": [
    {
     "data": {
      "text/plain": [
       "'不存在'"
      ]
     },
     "execution_count": 30,
     "metadata": {},
     "output_type": "execute_result"
    }
   ],
   "source": [
    "dictNameScore.get('马八','不存在')"
   ]
  },
  {
   "cell_type": "markdown",
   "id": "local-postage",
   "metadata": {},
   "source": [
    "要删除一个key，用pop(key)方法，对应的value也会从dict中删除："
   ]
  },
  {
   "cell_type": "code",
   "execution_count": 31,
   "id": "intended-reason",
   "metadata": {},
   "outputs": [
    {
     "data": {
      "text/plain": [
       "{'张三': 95, '李四': 75, '王五': 85}"
      ]
     },
     "execution_count": 31,
     "metadata": {},
     "output_type": "execute_result"
    }
   ],
   "source": [
    "dictNameScore.pop('赵六')\n",
    "dictNameScore"
   ]
  },
  {
   "cell_type": "markdown",
   "id": "featured-pregnancy",
   "metadata": {},
   "source": [
    "和list比较，dict有以下几个特点：\n",
    "\n",
    "1. 查找和插入的速度极快，不会随着key的增加而变慢；\n",
    "2. 需要占用大量的内存，内存浪费多。\n",
    "\n",
    "而list相反：\n",
    "\n",
    "1. 查找和插入的时间随着元素的增加而增加；\n",
    "2. 占用空间小，浪费内存很少。\n",
    "3. 所以，dict是用空间来换取时间的一种方法。\n",
    "\n",
    "dict可以用在需要高速查找的很多地方，在Python代码中几乎无处不在，正确使用dict非常重要，需要牢记的第一条就是dict的key必须是不可变对象。\n",
    "\n",
    "这是因为dict根据key来计算value的存储位置，如果每次计算相同的key得出的结果不同，那dict内部就完全混乱了。这个通过key计算位置的算法称为哈希算法（Hash）。\n",
    "\n",
    "要保证hash的正确性，作为key的对象就不能变。在Python中，字符串、整数等都是不可变的，因此，可以放心地作为key。"
   ]
  },
  {
   "cell_type": "markdown",
   "id": "short-convertible",
   "metadata": {},
   "source": [
    "### 集合"
   ]
  },
  {
   "cell_type": "code",
   "execution_count": 32,
   "id": "popular-client",
   "metadata": {},
   "outputs": [
    {
     "data": {
      "text/plain": [
       "{1, 2, 3}"
      ]
     },
     "execution_count": 32,
     "metadata": {},
     "output_type": "execute_result"
    }
   ],
   "source": [
    "# Set - 集合\n",
    "TestSet = set([1, 2, 3])\n",
    "TestSet"
   ]
  },
  {
   "cell_type": "markdown",
   "id": "numerical-livestock",
   "metadata": {},
   "source": [
    "set和dict类似，也是一组key的集合，但不存储value。由于key不能重复，所以，在set中，没有重复的key。\n",
    "\n",
    "重复元素在set中自动被过滤："
   ]
  },
  {
   "cell_type": "code",
   "execution_count": 33,
   "id": "temporal-knock",
   "metadata": {},
   "outputs": [
    {
     "data": {
      "text/plain": [
       "{1, 2, 3}"
      ]
     },
     "execution_count": 33,
     "metadata": {},
     "output_type": "execute_result"
    }
   ],
   "source": [
    "TestSet = set([1, 1, 2, 2, 3, 3])\n",
    "TestSet"
   ]
  },
  {
   "cell_type": "markdown",
   "id": "durable-swedish",
   "metadata": {},
   "source": [
    "通过add(key)方法可以添加元素到set中，可以重复添加，但不会有效果："
   ]
  },
  {
   "cell_type": "code",
   "execution_count": 34,
   "id": "mental-border",
   "metadata": {},
   "outputs": [
    {
     "data": {
      "text/plain": [
       "{1, 2, 3, 4}"
      ]
     },
     "execution_count": 34,
     "metadata": {},
     "output_type": "execute_result"
    }
   ],
   "source": [
    "TestSet.add(4)\n",
    "TestSet"
   ]
  },
  {
   "cell_type": "code",
   "execution_count": 35,
   "id": "original-compensation",
   "metadata": {},
   "outputs": [
    {
     "data": {
      "text/plain": [
       "{1, 2, 3, 4}"
      ]
     },
     "execution_count": 35,
     "metadata": {},
     "output_type": "execute_result"
    }
   ],
   "source": [
    "TestSet.add(4)\n",
    "TestSet"
   ]
  },
  {
   "cell_type": "markdown",
   "id": "adverse-appreciation",
   "metadata": {},
   "source": [
    "通过remove(key)方法可以删除元素："
   ]
  },
  {
   "cell_type": "code",
   "execution_count": 36,
   "id": "identified-polyester",
   "metadata": {},
   "outputs": [
    {
     "data": {
      "text/plain": [
       "{1, 2, 3}"
      ]
     },
     "execution_count": 36,
     "metadata": {},
     "output_type": "execute_result"
    }
   ],
   "source": [
    "TestSet.remove(4)\n",
    "TestSet"
   ]
  },
  {
   "cell_type": "markdown",
   "id": "intensive-leadership",
   "metadata": {},
   "source": [
    "set可以看成数学意义上的无序和无重复元素的集合，因此，两个set可以做数学意义上的交集、并集等操作"
   ]
  },
  {
   "cell_type": "code",
   "execution_count": 37,
   "id": "buried-single",
   "metadata": {},
   "outputs": [
    {
     "name": "stdout",
     "output_type": "stream",
     "text": [
      "{2, 3}\n",
      "{1, 2, 3, 4}\n"
     ]
    }
   ],
   "source": [
    "s1 = set([1, 2, 3]) # 创建一个 set 1\n",
    "s2 = set([2, 3, 4]) # 创建一个 set 2\n",
    "print(s1 & s2) # 求集合的交集\n",
    "print(s1 | s2) # 求集合的并集"
   ]
  },
  {
   "cell_type": "markdown",
   "id": "billion-cruise",
   "metadata": {},
   "source": [
    "set和dict的唯一区别仅在于没有存储对应的value，但是，set的原理和dict一样，所以，同样不可以放入可变对象，因为无法判断两个可变对象是否相等，也就无法保证set内部“不会有重复元素”。试试把list放入set，看看是否会报错。"
   ]
  },
  {
   "cell_type": "markdown",
   "id": "confused-submission",
   "metadata": {},
   "source": [
    "## 第二个主题: 循环的使用"
   ]
  },
  {
   "cell_type": "markdown",
   "id": "valid-regard",
   "metadata": {},
   "source": [
    "### For 循环"
   ]
  },
  {
   "cell_type": "code",
   "execution_count": 38,
   "id": "relative-homeless",
   "metadata": {},
   "outputs": [
    {
     "name": "stdout",
     "output_type": "stream",
     "text": [
      "老张\n",
      "老王\n",
      "老毕凳子\n"
     ]
    }
   ],
   "source": [
    "names = ['老张', '老王', '老毕凳子'] # 我们创建一个列表， 里面是名字\n",
    "for name in names: # 对于每一个在names这个list里面的元素， 我们打印他\n",
    "    print(name)"
   ]
  },
  {
   "cell_type": "markdown",
   "id": "according-treasurer",
   "metadata": {},
   "source": [
    "如果要计算1-100的整数之和，从1写到100有点困难，\n",
    "\n",
    "幸好Python提供一个range()函数，可以生成一个整数序列，再通过list()函数可以转换为list\n",
    "\n",
    "比如range(5)生成的序列是从0开始小于5的整数："
   ]
  },
  {
   "cell_type": "code",
   "execution_count": 39,
   "id": "ultimate-atlas",
   "metadata": {},
   "outputs": [
    {
     "data": {
      "text/plain": [
       "[0, 1, 2, 3, 4, 5]"
      ]
     },
     "execution_count": 39,
     "metadata": {},
     "output_type": "execute_result"
    }
   ],
   "source": [
    "list(range(6))"
   ]
  },
  {
   "cell_type": "code",
   "execution_count": 40,
   "id": "acute-oriental",
   "metadata": {},
   "outputs": [
    {
     "name": "stdout",
     "output_type": "stream",
     "text": [
      "5050\n"
     ]
    }
   ],
   "source": [
    "sum = 0 # 在没有做加减法的时候， 我们的和是0\n",
    "for x in range(101): # range（101） = 产生一个从0开始，到100的范围\n",
    "    sum = sum + x # 每次经过一个数， 我们就把他加起来\n",
    "print(sum)"
   ]
  },
  {
   "cell_type": "markdown",
   "id": "discrete-mailman",
   "metadata": {},
   "source": [
    "### While 循环"
   ]
  },
  {
   "cell_type": "markdown",
   "id": "productive-carpet",
   "metadata": {},
   "source": [
    "第二种循环是while循环，只要条件满足，就不断循环，条件不满足时退出循环。比如我们要计算100以内所有奇数之和，可以用while循环实现："
   ]
  },
  {
   "cell_type": "code",
   "execution_count": 41,
   "id": "capital-tennessee",
   "metadata": {},
   "outputs": [
    {
     "name": "stdout",
     "output_type": "stream",
     "text": [
      "5050\n"
     ]
    }
   ],
   "source": [
    "sum = 0 # 在没有做加减法的时候， 我们的和是0\n",
    "n = 100 # 我们的终止点\n",
    "while n > 0: # 当n大于0的时候，执行底下的代码，换句话说，n小于等于0的时候，我们跳出循环\n",
    "    sum = sum + n\n",
    "    n = n - 1 # 当 n=1的时候， 再减1， n就变成了0，那么我们再去while， 就跳出来了！\n",
    "print(sum)"
   ]
  },
  {
   "cell_type": "markdown",
   "id": "suited-mention",
   "metadata": {},
   "source": [
    "## 第三个主题： 调用一些包"
   ]
  },
  {
   "cell_type": "markdown",
   "id": "further-rochester",
   "metadata": {},
   "source": [
    "最常用的一些包:\n",
    "1. numpy - 负责和数学一切相关的东西\n",
    "2. pands - 数据分析常用\n",
    "3. os - 和操作系统相关的东西\n",
    "4. Matplotlib - 数据可视化\n",
    "5. Scikit-learn - 流行的机器学习库\n",
    "我们举一些例子"
   ]
  },
  {
   "cell_type": "code",
   "execution_count": 42,
   "id": "eligible-dublin",
   "metadata": {},
   "outputs": [],
   "source": [
    "### numpy 科学计算包"
   ]
  },
  {
   "cell_type": "code",
   "execution_count": 43,
   "id": "close-exhibition",
   "metadata": {},
   "outputs": [
    {
     "name": "stdout",
     "output_type": "stream",
     "text": [
      "x=2.0, y=-1.0, z=3.0\n"
     ]
    }
   ],
   "source": [
    "# 引入一个包的时候， 我们使用import\n",
    "# as表示的是我们给包的名字一个简称， 否则的话我们的名字太长对我们的编程规范性没有好处\n",
    "# 每次调用包里的东西的时候，我们的用法是 包的缩写.你需要调用的函数\n",
    "import numpy as np #调用numpy这个包，并且把它称之为np\n",
    "CM = np.array([[8, -6, 2],[-4, 11, -7],[4, -7, 6]]) #使用np里的函数array创建一个三维的array\n",
    "Result = np.array([[28],[-40],[33]]) #在创立一个\n",
    "SS= np.linalg.solve(CM, Result) #我们调用np里面的函数linearalgebra中的solve函数来帮助我们求解这个方程\n",
    "print('x={}, y={}, z={}'.format(SS[0][0], SS[1][0], SS[2][0])) #格式化我们的输出，我们会以后慢慢说到"
   ]
  },
  {
   "cell_type": "code",
   "execution_count": 44,
   "id": "brutal-lending",
   "metadata": {},
   "outputs": [
    {
     "name": "stdout",
     "output_type": "stream",
     "text": [
      "28\n",
      "-40\n",
      "33\n"
     ]
    }
   ],
   "source": [
    "#做一个验证\n",
    "print(8*2-6*(-1)+2*3)\n",
    "print(-4*2+11*(-1)-7*(3))\n",
    "print(4*2-7*(-1)+6*3)"
   ]
  },
  {
   "cell_type": "code",
   "execution_count": 45,
   "id": "blond-brown",
   "metadata": {},
   "outputs": [],
   "source": [
    "### Matplotlib 数据可视化包"
   ]
  },
  {
   "cell_type": "code",
   "execution_count": 46,
   "id": "invisible-impact",
   "metadata": {},
   "outputs": [
    {
     "data": {
      "image/png": "[encoded data removed]",
      "text/plain": [
       "<Figure size 432x288 with 1 Axes>"
      ]
     },
     "metadata": {
      "needs_background": "light"
     },
     "output_type": "display_data"
    }
   ],
   "source": [
    "import matplotlib.pyplot as plt\n",
    "from matplotlib.font_manager import FontProperties\n",
    "dataX = list(range(7))\n",
    "dataY = [1,1.2,1.4,1.7, 0.900, 2, 2.4]\n",
    "plt.plot(dataX,dataY)\n",
    "plt.title(\"Expenditure in a week\");\n",
    "plt.xlabel(\"the n-th Day\");\n",
    "plt.ylabel(\"Expenditure AUD\");\n",
    "plt.show()"
   ]
  },
  {
   "cell_type": "code",
   "execution_count": 47,
   "id": "peripheral-concept",
   "metadata": {},
   "outputs": [
    {
     "data": {
      "image/png": "[encoded data removed]",
      "text/plain": [
       "<Figure size 432x288 with 1 Axes>"
      ]
     },
     "metadata": {
      "needs_background": "light"
     },
     "output_type": "display_data"
    }
   ],
   "source": [
    "x = [0,1,2,4,5,6]\n",
    "y = [1,2,3,2.1,4,1]\n",
    "plt.bar(x,y)#竖的条形图\n",
    "#plt.barh(x,y)#横的条形图，注意x,y坐标\n",
    "plt.title(\"Histogram\");\n",
    "plt.xlabel(\"x - label\");\n",
    "plt.ylabel(\"y - label\");\n",
    "plt.show()"
   ]
  },
  {
   "cell_type": "code",
   "execution_count": 48,
   "id": "equivalent-oxide",
   "metadata": {},
   "outputs": [
    {
     "data": {
      "image/png": "[encoded data removed]",
      "text/plain": [
       "<Figure size 432x288 with 1 Axes>"
      ]
     },
     "metadata": {
      "needs_background": "light"
     },
     "output_type": "display_data"
    }
   ],
   "source": [
    "x = [1,2,3,4,5,6,7,8,9]\n",
    "y = [0,2,3,4,2,3,4,5,4]\n",
    "plt.scatter(x, y,c=\"g\", alpha=0.5, marker=r'$\\clubsuit$',label=\"Luck\")\n",
    "plt.show()"
   ]
  },
  {
   "cell_type": "code",
   "execution_count": 49,
   "id": "alike-strengthening",
   "metadata": {},
   "outputs": [
    {
     "data": {
      "image/png": "[encoded data removed]",
      "text/plain": [
       "<Figure size 432x288 with 1 Axes>"
      ]
     },
     "metadata": {},
     "output_type": "display_data"
    }
   ],
   "source": [
    "# 饼图\n",
    "from pylab import *  \n",
    "\n",
    "labels = (\"Red\",\"Green\",\"Blue\",\"Yellow\",\"Gray\")\n",
    "colors = (\"red\",\"green\",\"blue\",\"yellow\",\"gray\")\n",
    "fracs = [10,20,30,20,20]\n",
    "\n",
    "plt.pie(fracs,labels=labels,colors=colors,autopct='%1.0f%%')\n",
    "plt.show()\n"
   ]
  },
  {
   "cell_type": "code",
   "execution_count": 50,
   "id": "coordinate-gardening",
   "metadata": {},
   "outputs": [
    {
     "data": {
      "image/png": "[encoded data removed]",
      "text/plain": [
       "<Figure size 432x288 with 1 Axes>"
      ]
     },
     "metadata": {
      "needs_background": "light"
     },
     "output_type": "display_data"
    }
   ],
   "source": [
    "import numpy as np\n",
    "#标签\n",
    "labels = np.array(['attack','defense','life','mana','luck'])\n",
    "#数据个数\n",
    "dataLenth = 5\n",
    "#数据\n",
    "data = np.array([2,4,3,5,1])\n",
    "\n",
    "angles = np.linspace(0, 2*np.pi, dataLenth, endpoint=False)\n",
    "# linspace创建等差数列 0到2pi之间dataLength个数据\n",
    "# 第二个数据是否是最后的数据，默认为True\n",
    "data = np.concatenate((data, [data[0]])) # 闭合\n",
    "# 加入第一个数据，闭合\n",
    "\n",
    "angles = np.concatenate((angles, [angles[0]])) # 闭合\n",
    "# 角度也闭合\n",
    "\n",
    "fig = plt.figure()\n",
    "ax = fig.add_subplot(111, polar=True)# polar参数！！\n",
    "# 111表示1行1列处于第1个，polar设为极坐标\n",
    "\n",
    "ax.plot(angles, data, 'bo-', linewidth=2)# 画线\n",
    "ax.fill(angles, data, facecolor='b', alpha=0.25)# 填充\n",
    "ax.set_title(\"Ability\", va='bottom')\n",
    "ax.set_rlim(0,5)\n",
    "ax.grid(True)\n",
    "plt.show()\n"
   ]
  }
 ],
 "metadata": {
  "kernelspec": {
   "display_name": "Python 3",
   "language": "python",
   "name": "python3"
  },
  "language_info": {
   "codemirror_mode": {
    "name": "ipython",
    "version": 3
   },
   "file_extension": ".py",
   "mimetype": "text/x-python",
   "name": "python",
   "nbconvert_exporter": "python",
   "pygments_lexer": "ipython3",
   "version": "3.7.8"
  }
 },
 "nbformat": 4,
 "nbformat_minor": 5
}
