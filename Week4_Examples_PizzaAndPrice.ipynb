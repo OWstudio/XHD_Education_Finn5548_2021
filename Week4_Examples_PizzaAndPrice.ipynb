{
 "cells": [
  {
   "cell_type": "markdown",
   "id": "0f376dba",
   "metadata": {},
   "source": [
    "# 一元线性回归"
   ]
  },
  {
   "cell_type": "markdown",
   "id": "bfb1d5dc",
   "metadata": {},
   "source": [
    "我劝大家不要把一元线性回归想的太复杂,\n",
    "如果你有一些线性代数的基础的话, 你去看公式, 也没有很复杂.\n",
    "\n",
    "我们这里不强调一元线性回归的理论方面了, 如果感兴趣的同学, 可以在找到我们来问.\n",
    "\n",
    "在这个加课的部分里, 我们举一个简单的一元线性回归的例子, 在此之前, 我们简单聊聊线性回归这个东西.."
   ]
  },
  {
   "cell_type": "markdown",
   "id": "abff1646",
   "metadata": {},
   "source": [
    "## 一元? 线性? 回归?"
   ]
  },
  {
   "cell_type": "markdown",
   "id": "73471899",
   "metadata": {},
   "source": [
    "这个中文翻译简直是乱七八糟\n",
    "\n",
    "我们从最简单的模型出发, 我们时常讨论一个问题, 就是个子高的人体重会不会同样增大.\n",
    "对于这个问题, 体重就是我们想知道的数值, 身高就是一个变化的量(variable)\n",
    "\n",
    "现在我们来问第二个问题: 体重是怎么随着身高变化的???\n",
    "我们可以有各种各样的猜想, 但是最简单的猜想就是 - 直线关系!\n",
    "换句话说, 体重 = 身高 * 一个系数 + 一个常数\n",
    "这就是线性的来源\n",
    "\n",
    "回归这个翻译, 我觉得非常令人失望.\n",
    "因为这个理论的创始人, 就用了一个不明所以的词 Regression..\n",
    "\n",
    "我就不说啥了, 先学吧"
   ]
  },
  {
   "cell_type": "markdown",
   "id": "0fdf7425",
   "metadata": {},
   "source": [
    "## 举个例子: 用python的Sk-learn包调查 : 披萨饼的直径和售价的关系??"
   ]
  },
  {
   "cell_type": "markdown",
   "id": "b7e8c64e",
   "metadata": {},
   "source": [
    "首先我们要至少买一些披萨饼, 调查他们的价格\n",
    "如果我们用装逼的术语说, 就是 : 训练样本\n",
    "\n",
    "大饼A : 6 英寸 7 AUD\n",
    "大饼B : 8 英寸 9 AUD\n",
    "大饼C : 10 英寸 13 AUD\n",
    "大饼D : 14 英寸 17.5 AUD\n",
    "大饼E : 18 英寸 18 AUD"
   ]
  },
  {
   "attachments": {},
   "cell_type": "markdown",
   "id": "b16d1dbb",
   "metadata": {},
   "source": [
    "首先我们先画一个散点图, \"可视化\" 一下这些数据"
   ]
  },
  {
   "cell_type": "code",
   "execution_count": 1,
   "id": "c060b4a2",
   "metadata": {},
   "outputs": [],
   "source": [
    "# 首先! 我们要把需要用的包调用出来!!\n",
    "# 这个你现在还看不懂就有点说不过去了!?\n",
    "\n",
    "# 我们现在想画一个散点图, 所以我们需要画图包\n",
    "import matplotlib.pyplot as plt"
   ]
  },
  {
   "cell_type": "code",
   "execution_count": 2,
   "id": "bee5760a",
   "metadata": {},
   "outputs": [
    {
     "data": {
      "text/plain": [
       "(0.0, 25.0, 0.0, 25.0)"
      ]
     },
     "execution_count": 2,
     "metadata": {},
     "output_type": "execute_result"
    },
    {
     "data": {
      "image/png": "[encoded data removed]",
      "text/plain": [
       "<Figure size 432x288 with 1 Axes>"
      ]
     },
     "metadata": {
      "needs_background": "light"
     },
     "output_type": "display_data"
    }
   ],
   "source": [
    "# 首先我们规定一下Axis的度规.\n",
    "# 这样的话我们看起来舒服一些\n",
    "# 当然你也可以不要这个命令, 就像没有全景天窗的旅行车, 毫无灵魂\n",
    "plt.axis([0,25,0,25])\n",
    "# 然后我们讲一下这个东西怎么用\n",
    "# plt 是包的名称\n",
    "# . 的意思是高速电脑, 我们要调用包里的一个函数了!!!\n",
    "# axis 就是我们想调用的函数, axis意味坐标轴, 这个函数调整了我们坐标轴能显示的最大, 最小数字\n",
    "          \n",
    "# 方括号里的东西, 分别是[x轴最小的数字, x轴最大的数字, y轴最小的数字, y轴最大的数字]\n",
    "# 所以, 我们代码的意思是: x轴从0英寸开始, 到25英寸结束, y轴从0AUD开始, 到25AUD结束"
   ]
  },
  {
   "cell_type": "code",
   "execution_count": 3,
   "id": "90fd0b3c",
   "metadata": {},
   "outputs": [
    {
     "data": {
      "image/png": "[encoded data removed]",
      "text/plain": [
       "<Figure size 432x288 with 1 Axes>"
      ]
     },
     "metadata": {
      "needs_background": "light"
     },
     "output_type": "display_data"
    }
   ],
   "source": [
    "# 首先我们规定一下Axis的度规.\n",
    "# 这样的话我们看起来舒服一些\n",
    "# 当然你也可以不要这个命令, 就像没有全景天窗的旅行车, 毫无灵魂\n",
    "plt.axis([0,25,0,25])\n",
    "# 然后我们讲一下这个东西怎么用\n",
    "# plt 是包的名称\n",
    "# . 的意思是高速电脑, 我们要调用包里的一个函数了!!!\n",
    "# axis 就是我们想调用的函数, axis意味坐标轴, 这个函数调整了我们坐标轴能显示的最大, 最小数字\n",
    "          \n",
    "# 方括号里的东西, 分别是[x轴最小的数字, x轴最大的数字, y轴最小的数字, y轴最大的数字]\n",
    "# 所以, 我们代码的意思是: x轴从0英寸开始, 到25英寸结束, y轴从0AUD开始, 到25AUD结束\n",
    "\n",
    "\n",
    "# 现在!! 我们给我们的图像加一个网格.\n",
    "plt.grid(True)\n",
    "# 这个true就是告诉电脑, 我们要开启这个功能了!!!!\n",
    "\n",
    "# 现在! 我们至少要知道我们画的是什么吧...\n",
    "# 我们列出x的数据\n",
    "x = [6, 8, 10, 14, 18] \n",
    "\n",
    "# 以及y的数据\n",
    "y = [7, 9, 13, 17.5, 18]\n",
    "\n",
    "# 开始画图!!!!!!!!!!!!\n",
    "plt.plot(x, y, '*', color=\"blue\", ) \n",
    "# 我把能想到的参数都列出来了, 你每次用的话, 请照抄这个格式吧\n",
    "\n",
    "# 现在我们给x轴表上文字!\n",
    "plt.xlabel('The diameter of the Pizza (inch)')\n",
    "\n",
    "#现在我们给y轴标上文字!\n",
    "plt.ylabel('The price of the Pizza (AUD)')\n",
    "\n",
    "# 你得把图像展示出来吧至少???\n",
    "plt.show()"
   ]
  },
  {
   "cell_type": "markdown",
   "id": "9c78de38",
   "metadata": {},
   "source": [
    "看着还行"
   ]
  },
  {
   "cell_type": "code",
   "execution_count": 4,
   "id": "09838656",
   "metadata": {},
   "outputs": [
    {
     "name": "stdout",
     "output_type": "stream",
     "text": [
      "The interception will be 1.965517241379315\n",
      "The linear coefficient will be 0.9762931034482755\n",
      "预测一张12英寸的披萨:13.68 aud\n"
     ]
    }
   ],
   "source": [
    "# 现在我们调用sklean包!!!\n",
    "# 用这个东西可以帮我们做回归\n",
    "from sklearn import linear_model\n",
    "\n",
    "# 当然, 使用numpy是没有坏处的\n",
    "# 用吧\n",
    "import numpy as np\n",
    "\n",
    "\n",
    "# sklearn中的训练数据要求二维\n",
    "# 列表不能转化为二维数组\n",
    "# 你是不是不清楚这两个命令是怎么回事????\n",
    "# 那我建议你print一下看看!!!\n",
    "# 对这个感兴趣的, 可以联系我\n",
    "# 但是目前你就记住了, 一元的就这么写!!!!!!\n",
    "x_train = np.array([6, 8, 10, 14, 18]).reshape(-1, 1)\n",
    "y_train = np.array([7, 9, 13, 17.5, 18]).reshape(-1, 1)\n",
    "\n",
    "\n",
    "# 现在我们需要挑选一个模型!!!\n",
    "# 都说了是线性回归! 那你当然要用linear了!\n",
    "model = linear_model.LinearRegression()\n",
    "\n",
    "# 这个至关重要, 就是说你要明白, 你的变量 和 想了解的值都是什么!\n",
    "model.fit(x_train, y_train)\n",
    "\n",
    "# 你最好显示出来截距 - 可以告诉我们那个常数是什么\n",
    "print('The interception will be', model.intercept_[0]) #截距\n",
    "\n",
    "# 你最好也显示出来线性系数\n",
    "print('The linear coefficient will be', model.coef_[0][0]) # 线性模型系数\n",
    "\n",
    "# 我们现在来简单地算一下, 如果是一个12inch的披萨, 他应该是多少钱???\n",
    "pizza_wanted = np.array([12]).reshape(-1, 1)\n",
    "pizza_price = model.predict(pizza_wanted)\n",
    "\n",
    "print(\"预测一张12英寸的披萨:{:.2f}\".format(pizza_price[0][0]), 'aud')\n"
   ]
  },
  {
   "cell_type": "markdown",
   "id": "b84391c9",
   "metadata": {},
   "source": [
    "现在我们来让我们的图像看起来更专业一些, 为了做到这个事儿, 我们准备完成以下的工作\n",
    "1. 画出来散点图 \n",
    "2. 画出那个线性函数\n",
    "3. 画出每一个点便宜学习模型的成都"
   ]
  },
  {
   "cell_type": "code",
   "execution_count": 5,
   "id": "450c74b7",
   "metadata": {},
   "outputs": [
    {
     "data": {
      "image/png": "[encoded data removed]",
      "text/plain": [
       "<Figure size 432x288 with 1 Axes>"
      ]
     },
     "metadata": {
      "needs_background": "light"
     },
     "output_type": "display_data"
    }
   ],
   "source": [
    "# 一串神秘代码?????\n",
    "import warnings\n",
    "warnings.filterwarnings(\"ignore\", category=np.VisibleDeprecationWarning) \n",
    "# 别管他\n",
    "\n",
    "\n",
    "\n",
    "\n",
    "# 画出匹萨直径与价格的线性关系\n",
    "# 首先画出散点图!!!!!! 照抄! 照抄上面的代码\n",
    "plt.axis([0,25,0,25])\n",
    "# 我们列出x的数据\n",
    "x = [6, 8, 10, 14, 18] \n",
    "\n",
    "# 以及y的数据\n",
    "y = [7, 9, 13, 17.5, 18]\n",
    "\n",
    "# 开始画图!!!!!!!!!!!!\n",
    "plt.plot(x, y, '*', color=\"blue\") \n",
    "# 我把能想到的参数都列出来了, 你每次用的话, 请照抄这个格式吧\n",
    "\n",
    "# 现在我们给x轴表上文字!\n",
    "plt.xlabel('The diameter of the Pizza (inch)')\n",
    "\n",
    "#现在我们给y轴标上文字!\n",
    "plt.ylabel('The price of the Pizza (AUD)')\n",
    "\n",
    "# 现在, 我们要根据我们的模型, 再画一条直线出来, 反应了价格和尺寸的关系\n",
    "# 首先我们确定一些点\n",
    "X2 = [[0], [10], [14], [25]]\n",
    "\n",
    "# 有了想预测的点了, 你得去算模型算出来的价格呀!!!\n",
    "y2 = model.predict(X2)\n",
    "\n",
    "# 现在把模型的预测画出来!!\n",
    "# 我们画一条红色的线!\n",
    "plt.plot(X2, y2, '-', color=\"red\")\n",
    "\n",
    "# 千万要注意!!!!!!!!!!!!!!!!!!!!!!\n",
    "# x.y的点不能连成线， 是我们的样本, 画出的是散点图\n",
    "\n",
    "# 但是!!!!\n",
    "# x2，y2的点可以连线，是我们的模型, 画出的是直线图\n",
    "\n",
    "# 模型评估\n",
    "# 残差预测值\n",
    "yr = model.predict(x_train)\n",
    "#  enumerate 函数可以把一个 list 变成索引-元素对\n",
    "# 这个我们第一节用过啊!!! 别忘了\n",
    "for idx, x in enumerate(x_train):\n",
    "    plt.plot([x, x], [y[idx], yr[idx]], 'g')\n",
    "\n",
    "plt.grid(True)\n",
    "plt.show()"
   ]
  },
  {
   "cell_type": "markdown",
   "id": "4bc870fd",
   "metadata": {},
   "source": [
    "这个例子就完成啦!"
   ]
  },
  {
   "cell_type": "markdown",
   "id": "dd486609",
   "metadata": {},
   "source": [
    "# 下面我们做一个回顾"
   ]
  },
  {
   "cell_type": "markdown",
   "id": "15c94be8",
   "metadata": {},
   "source": [
    "我们重述一下处理 一元, 线性, 回归 问题的一个基本步骤:\n",
    "1. 确定你调查啥, 先把名字起好了!!!!\n",
    "2. 找到你的样本什么是x, 什么是y\n",
    "   我多说两句, 在咱们这个例子里, 我们简单的使用了一些人造数据\n",
    "   对于你们的实际应用来说, 很有可能遇到的是一个cvs表格\n",
    "   \n",
    "   不要慌, 抄!\n",
    "3. 当你确定了x和y, 你要确定他们的形式满足sklearn包的要求不??\n",
    "4. 当以上的条件都整备了, 我们需要去做预测, 接下来的就是照本宣科的抄代码了"
   ]
  }
 ],
 "metadata": {
  "kernelspec": {
   "display_name": "Python 3",
   "language": "python",
   "name": "python3"
  },
  "language_info": {
   "codemirror_mode": {
    "name": "ipython",
    "version": 3
   },
   "file_extension": ".py",
   "mimetype": "text/x-python",
   "name": "python",
   "nbconvert_exporter": "python",
   "pygments_lexer": "ipython3",
   "version": "3.8.8"
  }
 },
 "nbformat": 4,
 "nbformat_minor": 5
}
