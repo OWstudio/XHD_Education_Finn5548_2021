{
 "cells": [
  {
   "cell_type": "markdown",
   "id": "e8b61467",
   "metadata": {},
   "source": [
    "# Week3 知识点梳理"
   ]
  },
  {
   "cell_type": "markdown",
   "id": "3ac40849",
   "metadata": {},
   "source": [
    "\n",
    "### 3.1 Python Functions\n",
    "\n",
    "一类是系统已经有的 例如 print(), input(), len()\n",
    "另一类是自己定义调用的\n",
    "-----基础知识点"
   ]
  },
  {
   "cell_type": "code",
   "execution_count": 1,
   "id": "af59d37c",
   "metadata": {},
   "outputs": [],
   "source": [
    "# def --> definition 用来定义Function\n",
    "# def 后面的say_hello是这个function的名字\n",
    "# 这个function 内部是我们要实现的内容，这个例子里面我们要输出打印Hello\n",
    "def say_hello():\n",
    "    print('Hello')"
   ]
  },
  {
   "cell_type": "markdown",
   "id": "9850cfde",
   "metadata": {},
   "source": [
    "#### 定义了以后运行， 我们发现并没有任何Hello文字的输出\n",
    "#### 这里我们需要调用刚刚写的Function"
   ]
  },
  {
   "cell_type": "code",
   "execution_count": 2,
   "id": "8fc1b955",
   "metadata": {},
   "outputs": [
    {
     "name": "stdout",
     "output_type": "stream",
     "text": [
      "Hello\n"
     ]
    }
   ],
   "source": [
    "say_hello()"
   ]
  },
  {
   "cell_type": "code",
   "execution_count": 3,
   "id": "1497787a",
   "metadata": {},
   "outputs": [
    {
     "name": "stdout",
     "output_type": "stream",
     "text": [
      "Hello, James\n"
     ]
    }
   ],
   "source": [
    "# parameters -->  在定义function的过程中我们可以输入一些变量来实现更为复杂的逻辑\n",
    "# 定义say_hello这个function，同时设定name为一个输入变量\n",
    "def say_hello(name):\n",
    "    # 输出Hello，+名字\n",
    "    print('Hello,', name)\n",
    "    \n",
    "# 调用say_hello并且用James作为变量输入\n",
    "say_hello('James')\n"
   ]
  },
  {
   "cell_type": "code",
   "execution_count": 4,
   "id": "cd1cdbda",
   "metadata": {},
   "outputs": [
    {
     "ename": "TypeError",
     "evalue": "say_hello() missing 1 required positional argument: 'name'",
     "output_type": "error",
     "traceback": [
      "\u001b[0;31m---------------------------------------------------------------------------\u001b[0m",
      "\u001b[0;31mTypeError\u001b[0m                                 Traceback (most recent call last)",
      "\u001b[0;32m<ipython-input-4-f02eecf10c03>\u001b[0m in \u001b[0;36m<module>\u001b[0;34m\u001b[0m\n\u001b[1;32m      1\u001b[0m \u001b[0;31m# 调用say_hello 如果没有相对应的变量输入就会得到报错\u001b[0m\u001b[0;34m\u001b[0m\u001b[0;34m\u001b[0m\u001b[0;34m\u001b[0m\u001b[0m\n\u001b[0;32m----> 2\u001b[0;31m \u001b[0msay_hello\u001b[0m\u001b[0;34m(\u001b[0m\u001b[0;34m)\u001b[0m\u001b[0;34m\u001b[0m\u001b[0;34m\u001b[0m\u001b[0m\n\u001b[0m",
      "\u001b[0;31mTypeError\u001b[0m: say_hello() missing 1 required positional argument: 'name'"
     ]
    }
   ],
   "source": [
    "# 调用say_hello 如果没有相对应的变量输入就会得到报错\n",
    "say_hello()\n"
   ]
  },
  {
   "cell_type": "code",
   "execution_count": 5,
   "id": "8212e4ad",
   "metadata": {},
   "outputs": [
    {
     "name": "stdout",
     "output_type": "stream",
     "text": [
      "Hello, James\n"
     ]
    }
   ],
   "source": [
    "# 如果在定义function的时候给一个default value默认值那么也可以直接调用function 不会报错\n",
    "\n",
    "def say_hello(name = 'James'):\n",
    "    print('Hello,', name)\n",
    "say_hello() # The default value will be used\n",
    "\n"
   ]
  },
  {
   "cell_type": "code",
   "execution_count": 6,
   "id": "a4273784",
   "metadata": {},
   "outputs": [
    {
     "name": "stdout",
     "output_type": "stream",
     "text": [
      "Hello, Sarah\n"
     ]
    }
   ],
   "source": [
    "say_hello('Sarah') # The default value will not be used"
   ]
  },
  {
   "cell_type": "code",
   "execution_count": 7,
   "id": "aabfe72f",
   "metadata": {},
   "outputs": [
    {
     "name": "stdout",
     "output_type": "stream",
     "text": [
      "第一个function运行结果： 3\n",
      "Test2\n",
      "第二个function运行结果： 3\n"
     ]
    }
   ],
   "source": [
    "# Function中只会运行到return截止 return后面部分不会运行\n",
    "\n",
    "def sum1(x, y):\n",
    "    return x + y\n",
    "    print('Test1') # Will not be executed\n",
    "    \n",
    "\n",
    "print('第一个function运行结果：', sum1(1, 2))\n",
    "\n",
    "def sum2(x, y):\n",
    "    print('Test2') # Will be executed\n",
    "    return x + y\n",
    "    \n",
    "    \n",
    "\n",
    "print('第二个function运行结果：', sum2(1, 2))\n",
    "\n"
   ]
  },
  {
   "cell_type": "code",
   "execution_count": 8,
   "id": "c708295f",
   "metadata": {},
   "outputs": [
    {
     "name": "stdout",
     "output_type": "stream",
     "text": [
      "('A', 'a')\n",
      "A\n",
      "a\n"
     ]
    }
   ],
   "source": [
    "# 定义一个字符串作为输入变量\n",
    "def ends(string):\n",
    "    # 分别抓去输入字符串的第一位和末尾字母返回\n",
    "    first_char = string[0]\n",
    "    last_char = string[-1]\n",
    "    return first_char, last_char\n",
    "\n",
    "# 返回 Australia的首位字母 以tuple的形式\n",
    "print(ends('Australia'))\n",
    "\n",
    "# 下面两条的逻辑是先运行 ends('Australia')得到tuple('A','a')\n",
    "# 然后('A','a')[0] 来抓取第一位\n",
    "print(ends('Australia')[0])\n",
    "print(ends('Australia')[1])\n"
   ]
  },
  {
   "cell_type": "code",
   "execution_count": 9,
   "id": "f5426ac8",
   "metadata": {},
   "outputs": [
    {
     "name": "stdout",
     "output_type": "stream",
     "text": [
      "0.833\n",
      "0.833\n"
     ]
    }
   ],
   "source": [
    "# 在定义的function中有多个变量时，调用时建议使用变量名称来避免混淆以及增加可阅读性\n",
    "def divide(numerator, denominator, num_places):\n",
    "    return round(numerator/denominator, num_places)\n",
    "\n",
    "# Clear which number is which, and order doesn't matter:\n",
    "print(divide(numerator = 5, denominator = 6, num_places = 3))\n",
    "print(divide(num_places = 3, denominator = 6, numerator = 5)) # Same result\n"
   ]
  },
  {
   "cell_type": "code",
   "execution_count": 10,
   "id": "84e7fe2c",
   "metadata": {},
   "outputs": [
    {
     "name": "stdout",
     "output_type": "stream",
     "text": [
      "12\n",
      "2\n"
     ]
    }
   ],
   "source": [
    "# 接收热议数量的数字 选取最小值\n",
    "def smallest(*numbers):\n",
    "    #将第一个数字暂定为最小值\n",
    "    smallest = numbers[0]\n",
    "    # For循环 如果对应数值小于初始值 则将新的数值赋予smallest变量\n",
    "    for n in numbers:\n",
    "        if n < smallest:\n",
    "            smallest = n\n",
    "    #For循环结束后返回最小值\n",
    "    return smallest\n",
    "print(smallest(42, 12)) # Provide 2 arguments\n",
    "print(smallest(4, 11, 15, 2, 3)) # Provide 5 arguments\n"
   ]
  },
  {
   "cell_type": "code",
   "execution_count": 11,
   "id": "a0bd8b5c",
   "metadata": {},
   "outputs": [
    {
     "name": "stdout",
     "output_type": "stream",
     "text": [
      "5\n"
     ]
    }
   ],
   "source": [
    "#X变量在function外面 默认为Global数值，即全局可以调用\n",
    "x = 3\n",
    "def my_func(y):  # y is a locally defined variable y为function内的局部变量 外部不可调用\n",
    "    return y+2   # make the changes to y and pass them back as the return value\n",
    "x = my_func(x) # This will update the globally defined variable x\n",
    "print(x)\n"
   ]
  },
  {
   "cell_type": "code",
   "execution_count": 12,
   "id": "585aae2a",
   "metadata": {},
   "outputs": [
    {
     "ename": "NameError",
     "evalue": "name 'y' is not defined",
     "output_type": "error",
     "traceback": [
      "\u001b[0;31m---------------------------------------------------------------------------\u001b[0m",
      "\u001b[0;31mNameError\u001b[0m                                 Traceback (most recent call last)",
      "\u001b[0;32m<ipython-input-12-58066982a8a2>\u001b[0m in \u001b[0;36m<module>\u001b[0;34m\u001b[0m\n\u001b[1;32m      1\u001b[0m \u001b[0;31m# 如果我们现在检查y的数值 会得到报错 y没有被定义\u001b[0m\u001b[0;34m\u001b[0m\u001b[0;34m\u001b[0m\u001b[0;34m\u001b[0m\u001b[0m\n\u001b[0;32m----> 2\u001b[0;31m \u001b[0mprint\u001b[0m\u001b[0;34m(\u001b[0m\u001b[0;34m'the value of y inside of function'\u001b[0m\u001b[0;34m,\u001b[0m\u001b[0my\u001b[0m\u001b[0;34m)\u001b[0m\u001b[0;34m\u001b[0m\u001b[0;34m\u001b[0m\u001b[0m\n\u001b[0m",
      "\u001b[0;31mNameError\u001b[0m: name 'y' is not defined"
     ]
    }
   ],
   "source": [
    "# 如果我们现在检查y的数值 会得到报错 y没有被定义\n",
    "print('the value of y inside of function',y)"
   ]
  },
  {
   "attachments": {},
   "cell_type": "markdown",
   "id": "ad0b9be6",
   "metadata": {},
   "source": [
    "### 3.2 Recursion 递归\n",
    "\n",
    "假设你在一个电影院，你想知道自己坐在哪一排，但是前面人很多，你懒得去数了，于是你问前一排的人「你坐在哪一排？」，这样前面的人 (代号 A) 回答你以后，你就知道自己在哪一排了——只要把 A 的答案加一，就是自己所在的排了。不料 A 比你还懒，他也不想数，于是他也问他前面的人 B「你坐在哪一排？」，这样 A 可以用和你一模一样的步骤知道自己所在的排。然后 B 也如法炮制。直到他们这一串人问到了最前面的一排，第一排的人告诉问问题的人「我在第一排」。最后大家就都知道自己在哪一排了。\n"
   ]
  },
  {
   "cell_type": "code",
   "execution_count": 13,
   "id": "614577ea",
   "metadata": {},
   "outputs": [
    {
     "name": "stdout",
     "output_type": "stream",
     "text": [
      "Enter a number: 5\n",
      "The factorial of 5 is 120\n"
     ]
    }
   ],
   "source": [
    "# 函数内部调用for循环 1*2*3*4*5\n",
    "def factorial(n):\n",
    "    result = 1\n",
    "    for x in range(1, n+1):\n",
    "        result *= x\n",
    "    return result\n",
    "number = int(input('Enter a number: ')) # Must convert the input to an integer\n",
    "print('The factorial of', number, 'is', factorial(number))\n"
   ]
  },
  {
   "cell_type": "code",
   "execution_count": 14,
   "id": "a9a3dc02",
   "metadata": {},
   "outputs": [
    {
     "name": "stdout",
     "output_type": "stream",
     "text": [
      "Enter a number: 5\n",
      "The factorial of 5 is 120\n"
     ]
    }
   ],
   "source": [
    "#调用函数本身计算方式 5*4*3*2*1\n",
    "def factorial(n):\n",
    "    if n == 1:\n",
    "        return 1\n",
    "    else:\n",
    "        return n * factorial(n-1) # Recursion - the function calls itself\n",
    "number = int(input('Enter a number: ')) # Must convert the input to an integer\n",
    "print('The factorial of', number, 'is', factorial(number))\n"
   ]
  },
  {
   "cell_type": "code",
   "execution_count": 15,
   "id": "ee24d178",
   "metadata": {},
   "outputs": [
    {
     "name": "stdout",
     "output_type": "stream",
     "text": [
      "['banana', 'anana', 'nana', 'ana', 'n', 'a', 'ana', 'nana', 'anana', 'banana']\n"
     ]
    }
   ],
   "source": [
    "# 拓展\n",
    "def recursivefun(word):\n",
    "    if len(word) == 2:\n",
    "        return word\n",
    "    else:\n",
    "        x = []\n",
    "        x.append(word)\n",
    "        x.extend(recursivefun(word[1:]))\n",
    "        x.append(word)\n",
    "        return x\n",
    "\n",
    "print(recursivefun(\"banana\"))"
   ]
  },
  {
   "cell_type": "code",
   "execution_count": 16,
   "id": "1bafeb05",
   "metadata": {},
   "outputs": [
    {
     "name": "stdout",
     "output_type": "stream",
     "text": [
      "[1, 2, 3, [4, 5]]\n"
     ]
    }
   ],
   "source": [
    "#tips the difference between append and extend for python list\n",
    "\n",
    "#append: Appends object at the end.\n",
    "x = [1, 2, 3]\n",
    "x.append([4, 5])\n",
    "print(x)"
   ]
  },
  {
   "cell_type": "code",
   "execution_count": 17,
   "id": "c5678f40",
   "metadata": {},
   "outputs": [
    {
     "name": "stdout",
     "output_type": "stream",
     "text": [
      "[1, 2, 3, 4, 5]\n"
     ]
    }
   ],
   "source": [
    "#extend: Extends list by appending elements from the iterable.\n",
    "x = [1, 2, 3]\n",
    "x.extend([4, 5])\n",
    "print(x)"
   ]
  },
  {
   "cell_type": "code",
   "execution_count": null,
   "id": "40d22d12",
   "metadata": {},
   "outputs": [],
   "source": []
  },
  {
   "cell_type": "markdown",
   "id": "fc8690e9",
   "metadata": {},
   "source": [
    "### 3.3 Other Functions 嵌套"
   ]
  },
  {
   "cell_type": "code",
   "execution_count": 18,
   "id": "71de3337",
   "metadata": {},
   "outputs": [
    {
     "name": "stdout",
     "output_type": "stream",
     "text": [
      "WHO\n"
     ]
    }
   ],
   "source": [
    "def acronym(string):\n",
    "    #定义 result 变量 空字符串\n",
    "    result = ''\n",
    "    # 将输入的string以空格来分割 存入名为word的list中\n",
    "    words = string.split(' ')\n",
    "    # 定义 function 抓去每一个string的第一位转化为大写 并仅返回首字母\n",
    "    def upper_first(string):\n",
    "        return string[0].upper()\n",
    "    # for循环 将每一个单词作为变量输入上面定义的function来实现首字母大写 并且返回首字母\n",
    "    for word in words:\n",
    "        #将结果加入之前定义的result里\n",
    "        result += upper_first(word)\n",
    "    return result\n",
    "print(acronym('World Health Organisation'))\n"
   ]
  },
  {
   "cell_type": "code",
   "execution_count": 19,
   "id": "bbffc655",
   "metadata": {},
   "outputs": [
    {
     "name": "stdout",
     "output_type": "stream",
     "text": [
      "['Louise', 'Geoff', 'Kim', 'Tam', 'Helen']\n"
     ]
    }
   ],
   "source": [
    "def last_letter(name):\n",
    "    return name[-1]\n",
    "names = ['Geoff', 'Kim', 'Louise', 'Tam', 'Helen']\n",
    "names.sort(key=last_letter) # Use the function defined above\n",
    "print(names)\n"
   ]
  },
  {
   "cell_type": "markdown",
   "id": "f515f791",
   "metadata": {},
   "source": [
    "### 3.4 Lambda"
   ]
  },
  {
   "cell_type": "markdown",
   "id": "05d62f5b",
   "metadata": {},
   "source": [
    "在Python中，lambda的语法是唯一的。其形式如下：\n",
    "\n",
    "lambda argument_list: expression\n",
    "\n",
    "其中，lambda是Python预留的关键字，argument_list和expression由用户自定义。\n",
    "\n",
    "这里的argument_list是参数列表。它的结构与Python中函数(function)的参数列表是一样的。具体来说，argument_list可以有非常多的形式。例如：    a, b    a=1, b=2     *args     **kwargs     a, b=1, *args    \n",
    "\n",
    "这里的expression是一个关于参数的表达式。表达式中出现的参数需要在argument_list中有定义，并且表达式只能是单行的。以下都是合法的表达式：   1    None    a + b    sum(a)    1 if a >10 else 0    ......\n",
    "\n",
    "这里的lambda argument_list: expression表示的是一个函数。这个函数叫做lambda函数。\n"
   ]
  },
  {
   "cell_type": "markdown",
   "id": "72b00420",
   "metadata": {},
   "source": [
    "特性:\n",
    "\n",
    "lambda函数是匿名的：所谓匿名函数，通俗地说就是没有名字的函数。lambda函数没有名字。\n",
    "lambda函数有输入和输出：输入是传入到参数列表argument_list的值，输出是根据表达式expression计算得到的值。\n",
    "lambda函数一般功能简单：单行expression决定了lambda函数不可能完成复杂的逻辑，只能完成非常简单的功能。由于其实现的功能一目了然，甚至不需要专门的名字来说明。\n"
   ]
  },
  {
   "cell_type": "code",
   "execution_count": 20,
   "id": "b1ce4c14",
   "metadata": {},
   "outputs": [
    {
     "name": "stdout",
     "output_type": "stream",
     "text": [
      "12\n",
      "10\n"
     ]
    }
   ],
   "source": [
    "def add1(x):\n",
    "    return x + 1\n",
    "def subtract1(x):\n",
    "    return x - 1\n",
    "def compose(f, g):\n",
    "    #lambda 函数调用 x作为输入变量 输出为f(g(x) 的嵌套\n",
    "    return lambda x: f(g(x))\n",
    "add2 = compose(add1, add1)\n",
    "print(add2(10))\n",
    "do_nothing = compose(add1, subtract1)\n",
    "print(do_nothing(10))\n"
   ]
  },
  {
   "cell_type": "code",
   "execution_count": null,
   "id": "68257c32",
   "metadata": {},
   "outputs": [],
   "source": []
  },
  {
   "cell_type": "markdown",
   "id": "616db503",
   "metadata": {},
   "source": [
    "### 3.5 Plot\n",
    "\n",
    " pip install numpy\n",
    " <br>\n",
    " pip install matplotlib\n"
   ]
  },
  {
   "cell_type": "code",
   "execution_count": 21,
   "id": "194a4c9c",
   "metadata": {},
   "outputs": [],
   "source": [
    "import matplotlib.pyplot as plt\n",
    "import numpy as np\n"
   ]
  },
  {
   "cell_type": "code",
   "execution_count": 22,
   "id": "052bc6aa",
   "metadata": {},
   "outputs": [
    {
     "name": "stdout",
     "output_type": "stream",
     "text": [
      "b 1\n",
      "b 1\n",
      "b 2\n",
      "b 3\n",
      "b 5\n",
      "b 8\n",
      "b 13\n",
      "b 21\n",
      "b 34\n",
      "b 55\n",
      "b 89\n",
      "b 144\n",
      "b 233\n",
      "b 377\n",
      "b 610\n",
      "b 987\n",
      "b 1597\n",
      "b 2584\n",
      "b 4181\n",
      "b 6765\n",
      "b 10946\n",
      "b 17711\n",
      "b 28657\n",
      "b 46368\n",
      "b 75025\n"
     ]
    }
   ],
   "source": [
    "# 定义 a，b的初始值为 0 和 1\n",
    "a,b = 0, 1\n",
    "# 定义一个空的list 命名为 c\n",
    "c = []\n",
    "\n",
    "# while循环 在b<100000的条件下 每次一次循环中将 b的值赋予a，a+b的值赋予b，然后将b的值添加进c的list中\n",
    "while b < 100000:\n",
    "    print('b',b)\n",
    "    a, b = b, a+b\n",
    "#     print('new a', a)\n",
    "#     print('new b', b)\n",
    "    c.append(b)\n",
    "#     print('new list', c)"
   ]
  },
  {
   "cell_type": "code",
   "execution_count": 23,
   "id": "b2c5e2e7",
   "metadata": {},
   "outputs": [
    {
     "data": {
      "image/png": "[encoded data removed]",
      "text/plain": [
       "<Figure size 432x288 with 1 Axes>"
      ]
     },
     "metadata": {
      "needs_background": "light"
     },
     "output_type": "display_data"
    }
   ],
   "source": [
    "plt.plot(c)\n",
    "plt.show()"
   ]
  },
  {
   "cell_type": "code",
   "execution_count": null,
   "id": "cdca04c8",
   "metadata": {},
   "outputs": [],
   "source": []
  },
  {
   "cell_type": "code",
   "execution_count": 24,
   "id": "98f43696",
   "metadata": {},
   "outputs": [],
   "source": [
    "def f(t):\n",
    "    return np.exp(-t) * np.cos(2*np.pi*t)\n",
    "\n",
    "t1 = np.arange(0.0, 5.0, 0.1)\n",
    "t2 = np.arange(0.0, 5.0, 0.02)"
   ]
  },
  {
   "cell_type": "code",
   "execution_count": 25,
   "id": "d54d20b8",
   "metadata": {},
   "outputs": [
    {
     "data": {
      "image/png": "[encoded data removed]",
      "text/plain": [
       "<Figure size 432x288 with 2 Axes>"
      ]
     },
     "metadata": {
      "needs_background": "light"
     },
     "output_type": "display_data"
    }
   ],
   "source": [
    "plt.figure(1)\n",
    "plt.subplot(211)\n",
    "plt.plot(t1, f(t1),'bo', t2, f(t2), 'k')\n",
    "\n",
    "plt.subplot(212)\n",
    "plt.plot(t2, np.cos(2*np.pi*t2), 'r--' )\n",
    "\n",
    "plt.show()"
   ]
  },
  {
   "cell_type": "code",
   "execution_count": null,
   "id": "dc2379f8",
   "metadata": {},
   "outputs": [],
   "source": []
  },
  {
   "cell_type": "code",
   "execution_count": 26,
   "id": "9a338895",
   "metadata": {},
   "outputs": [
    {
     "ename": "AttributeError",
     "evalue": "'Rectangle' object has no property 'normed'",
     "output_type": "error",
     "traceback": [
      "\u001b[0;31m---------------------------------------------------------------------------\u001b[0m",
      "\u001b[0;31mAttributeError\u001b[0m                            Traceback (most recent call last)",
      "\u001b[0;32m<ipython-input-26-5c37525875f3>\u001b[0m in \u001b[0;36m<module>\u001b[0;34m\u001b[0m\n\u001b[1;32m      4\u001b[0m \u001b[0mx\u001b[0m \u001b[0;34m=\u001b[0m \u001b[0mmu\u001b[0m \u001b[0;34m+\u001b[0m \u001b[0msigma\u001b[0m \u001b[0;34m*\u001b[0m \u001b[0mnp\u001b[0m\u001b[0;34m.\u001b[0m\u001b[0mrandom\u001b[0m\u001b[0;34m.\u001b[0m\u001b[0mrandn\u001b[0m\u001b[0;34m(\u001b[0m\u001b[0;36m10000\u001b[0m\u001b[0;34m)\u001b[0m\u001b[0;34m\u001b[0m\u001b[0;34m\u001b[0m\u001b[0m\n\u001b[1;32m      5\u001b[0m \u001b[0;34m\u001b[0m\u001b[0m\n\u001b[0;32m----> 6\u001b[0;31m \u001b[0mn\u001b[0m\u001b[0;34m,\u001b[0m \u001b[0mbins\u001b[0m\u001b[0;34m,\u001b[0m \u001b[0mpatches\u001b[0m \u001b[0;34m=\u001b[0m \u001b[0mplt\u001b[0m\u001b[0;34m.\u001b[0m\u001b[0mhist\u001b[0m\u001b[0;34m(\u001b[0m\u001b[0mx\u001b[0m\u001b[0;34m,\u001b[0m \u001b[0;36m50\u001b[0m\u001b[0;34m,\u001b[0m \u001b[0mnormed\u001b[0m\u001b[0;34m=\u001b[0m\u001b[0;36m1\u001b[0m\u001b[0;34m,\u001b[0m \u001b[0mfacecolor\u001b[0m\u001b[0;34m=\u001b[0m\u001b[0;34m'g'\u001b[0m\u001b[0;34m,\u001b[0m \u001b[0malpha\u001b[0m\u001b[0;34m=\u001b[0m\u001b[0;36m0.75\u001b[0m\u001b[0;34m)\u001b[0m\u001b[0;34m\u001b[0m\u001b[0;34m\u001b[0m\u001b[0m\n\u001b[0m\u001b[1;32m      7\u001b[0m \u001b[0;34m\u001b[0m\u001b[0m\n\u001b[1;32m      8\u001b[0m \u001b[0mplt\u001b[0m\u001b[0;34m.\u001b[0m\u001b[0mxlabel\u001b[0m\u001b[0;34m(\u001b[0m\u001b[0;34m'Smarts'\u001b[0m\u001b[0;34m)\u001b[0m\u001b[0;34m\u001b[0m\u001b[0;34m\u001b[0m\u001b[0m\n",
      "\u001b[0;32m~/opt/anaconda3/lib/python3.8/site-packages/matplotlib/pyplot.py\u001b[0m in \u001b[0;36mhist\u001b[0;34m(x, bins, range, density, weights, cumulative, bottom, histtype, align, orientation, rwidth, log, color, label, stacked, data, **kwargs)\u001b[0m\n\u001b[1;32m   2683\u001b[0m         \u001b[0morientation\u001b[0m\u001b[0;34m=\u001b[0m\u001b[0;34m'vertical'\u001b[0m\u001b[0;34m,\u001b[0m \u001b[0mrwidth\u001b[0m\u001b[0;34m=\u001b[0m\u001b[0;32mNone\u001b[0m\u001b[0;34m,\u001b[0m \u001b[0mlog\u001b[0m\u001b[0;34m=\u001b[0m\u001b[0;32mFalse\u001b[0m\u001b[0;34m,\u001b[0m \u001b[0mcolor\u001b[0m\u001b[0;34m=\u001b[0m\u001b[0;32mNone\u001b[0m\u001b[0;34m,\u001b[0m\u001b[0;34m\u001b[0m\u001b[0;34m\u001b[0m\u001b[0m\n\u001b[1;32m   2684\u001b[0m         label=None, stacked=False, *, data=None, **kwargs):\n\u001b[0;32m-> 2685\u001b[0;31m     return gca().hist(\n\u001b[0m\u001b[1;32m   2686\u001b[0m         \u001b[0mx\u001b[0m\u001b[0;34m,\u001b[0m \u001b[0mbins\u001b[0m\u001b[0;34m=\u001b[0m\u001b[0mbins\u001b[0m\u001b[0;34m,\u001b[0m \u001b[0mrange\u001b[0m\u001b[0;34m=\u001b[0m\u001b[0mrange\u001b[0m\u001b[0;34m,\u001b[0m \u001b[0mdensity\u001b[0m\u001b[0;34m=\u001b[0m\u001b[0mdensity\u001b[0m\u001b[0;34m,\u001b[0m \u001b[0mweights\u001b[0m\u001b[0;34m=\u001b[0m\u001b[0mweights\u001b[0m\u001b[0;34m,\u001b[0m\u001b[0;34m\u001b[0m\u001b[0;34m\u001b[0m\u001b[0m\n\u001b[1;32m   2687\u001b[0m         \u001b[0mcumulative\u001b[0m\u001b[0;34m=\u001b[0m\u001b[0mcumulative\u001b[0m\u001b[0;34m,\u001b[0m \u001b[0mbottom\u001b[0m\u001b[0;34m=\u001b[0m\u001b[0mbottom\u001b[0m\u001b[0;34m,\u001b[0m \u001b[0mhisttype\u001b[0m\u001b[0;34m=\u001b[0m\u001b[0mhisttype\u001b[0m\u001b[0;34m,\u001b[0m\u001b[0;34m\u001b[0m\u001b[0;34m\u001b[0m\u001b[0m\n",
      "\u001b[0;32m~/opt/anaconda3/lib/python3.8/site-packages/matplotlib/__init__.py\u001b[0m in \u001b[0;36minner\u001b[0;34m(ax, data, *args, **kwargs)\u001b[0m\n\u001b[1;32m   1445\u001b[0m     \u001b[0;32mdef\u001b[0m \u001b[0minner\u001b[0m\u001b[0;34m(\u001b[0m\u001b[0max\u001b[0m\u001b[0;34m,\u001b[0m \u001b[0;34m*\u001b[0m\u001b[0margs\u001b[0m\u001b[0;34m,\u001b[0m \u001b[0mdata\u001b[0m\u001b[0;34m=\u001b[0m\u001b[0;32mNone\u001b[0m\u001b[0;34m,\u001b[0m \u001b[0;34m**\u001b[0m\u001b[0mkwargs\u001b[0m\u001b[0;34m)\u001b[0m\u001b[0;34m:\u001b[0m\u001b[0;34m\u001b[0m\u001b[0;34m\u001b[0m\u001b[0m\n\u001b[1;32m   1446\u001b[0m         \u001b[0;32mif\u001b[0m \u001b[0mdata\u001b[0m \u001b[0;32mis\u001b[0m \u001b[0;32mNone\u001b[0m\u001b[0;34m:\u001b[0m\u001b[0;34m\u001b[0m\u001b[0;34m\u001b[0m\u001b[0m\n\u001b[0;32m-> 1447\u001b[0;31m             \u001b[0;32mreturn\u001b[0m \u001b[0mfunc\u001b[0m\u001b[0;34m(\u001b[0m\u001b[0max\u001b[0m\u001b[0;34m,\u001b[0m \u001b[0;34m*\u001b[0m\u001b[0mmap\u001b[0m\u001b[0;34m(\u001b[0m\u001b[0msanitize_sequence\u001b[0m\u001b[0;34m,\u001b[0m \u001b[0margs\u001b[0m\u001b[0;34m)\u001b[0m\u001b[0;34m,\u001b[0m \u001b[0;34m**\u001b[0m\u001b[0mkwargs\u001b[0m\u001b[0;34m)\u001b[0m\u001b[0;34m\u001b[0m\u001b[0;34m\u001b[0m\u001b[0m\n\u001b[0m\u001b[1;32m   1448\u001b[0m \u001b[0;34m\u001b[0m\u001b[0m\n\u001b[1;32m   1449\u001b[0m         \u001b[0mbound\u001b[0m \u001b[0;34m=\u001b[0m \u001b[0mnew_sig\u001b[0m\u001b[0;34m.\u001b[0m\u001b[0mbind\u001b[0m\u001b[0;34m(\u001b[0m\u001b[0max\u001b[0m\u001b[0;34m,\u001b[0m \u001b[0;34m*\u001b[0m\u001b[0margs\u001b[0m\u001b[0;34m,\u001b[0m \u001b[0;34m**\u001b[0m\u001b[0mkwargs\u001b[0m\u001b[0;34m)\u001b[0m\u001b[0;34m\u001b[0m\u001b[0;34m\u001b[0m\u001b[0m\n",
      "\u001b[0;32m~/opt/anaconda3/lib/python3.8/site-packages/matplotlib/axes/_axes.py\u001b[0m in \u001b[0;36mhist\u001b[0;34m(self, x, bins, range, density, weights, cumulative, bottom, histtype, align, orientation, rwidth, log, color, label, stacked, **kwargs)\u001b[0m\n\u001b[1;32m   6813\u001b[0m             \u001b[0;32mif\u001b[0m \u001b[0mpatch\u001b[0m\u001b[0;34m:\u001b[0m\u001b[0;34m\u001b[0m\u001b[0;34m\u001b[0m\u001b[0m\n\u001b[1;32m   6814\u001b[0m                 \u001b[0mp\u001b[0m \u001b[0;34m=\u001b[0m \u001b[0mpatch\u001b[0m\u001b[0;34m[\u001b[0m\u001b[0;36m0\u001b[0m\u001b[0;34m]\u001b[0m\u001b[0;34m\u001b[0m\u001b[0;34m\u001b[0m\u001b[0m\n\u001b[0;32m-> 6815\u001b[0;31m                 \u001b[0mp\u001b[0m\u001b[0;34m.\u001b[0m\u001b[0mupdate\u001b[0m\u001b[0;34m(\u001b[0m\u001b[0mkwargs\u001b[0m\u001b[0;34m)\u001b[0m\u001b[0;34m\u001b[0m\u001b[0;34m\u001b[0m\u001b[0m\n\u001b[0m\u001b[1;32m   6816\u001b[0m                 \u001b[0;32mif\u001b[0m \u001b[0mlbl\u001b[0m \u001b[0;32mis\u001b[0m \u001b[0;32mnot\u001b[0m \u001b[0;32mNone\u001b[0m\u001b[0;34m:\u001b[0m\u001b[0;34m\u001b[0m\u001b[0;34m\u001b[0m\u001b[0m\n\u001b[1;32m   6817\u001b[0m                     \u001b[0mp\u001b[0m\u001b[0;34m.\u001b[0m\u001b[0mset_label\u001b[0m\u001b[0;34m(\u001b[0m\u001b[0mlbl\u001b[0m\u001b[0;34m)\u001b[0m\u001b[0;34m\u001b[0m\u001b[0;34m\u001b[0m\u001b[0m\n",
      "\u001b[0;32m~/opt/anaconda3/lib/python3.8/site-packages/matplotlib/artist.py\u001b[0m in \u001b[0;36mupdate\u001b[0;34m(self, props)\u001b[0m\n\u001b[1;32m    994\u001b[0m                     \u001b[0mfunc\u001b[0m \u001b[0;34m=\u001b[0m \u001b[0mgetattr\u001b[0m\u001b[0;34m(\u001b[0m\u001b[0mself\u001b[0m\u001b[0;34m,\u001b[0m \u001b[0;34mf\"set_{k}\"\u001b[0m\u001b[0;34m,\u001b[0m \u001b[0;32mNone\u001b[0m\u001b[0;34m)\u001b[0m\u001b[0;34m\u001b[0m\u001b[0;34m\u001b[0m\u001b[0m\n\u001b[1;32m    995\u001b[0m                     \u001b[0;32mif\u001b[0m \u001b[0;32mnot\u001b[0m \u001b[0mcallable\u001b[0m\u001b[0;34m(\u001b[0m\u001b[0mfunc\u001b[0m\u001b[0;34m)\u001b[0m\u001b[0;34m:\u001b[0m\u001b[0;34m\u001b[0m\u001b[0;34m\u001b[0m\u001b[0m\n\u001b[0;32m--> 996\u001b[0;31m                         raise AttributeError(f\"{type(self).__name__!r} object \"\n\u001b[0m\u001b[1;32m    997\u001b[0m                                              f\"has no property {k!r}\")\n\u001b[1;32m    998\u001b[0m                     \u001b[0mret\u001b[0m\u001b[0;34m.\u001b[0m\u001b[0mappend\u001b[0m\u001b[0;34m(\u001b[0m\u001b[0mfunc\u001b[0m\u001b[0;34m(\u001b[0m\u001b[0mv\u001b[0m\u001b[0;34m)\u001b[0m\u001b[0;34m)\u001b[0m\u001b[0;34m\u001b[0m\u001b[0;34m\u001b[0m\u001b[0m\n",
      "\u001b[0;31mAttributeError\u001b[0m: 'Rectangle' object has no property 'normed'"
     ]
    },
    {
     "data": {
      "image/png": "[encoded data removed]",
      "text/plain": [
       "<Figure size 432x288 with 1 Axes>"
      ]
     },
     "metadata": {
      "needs_background": "light"
     },
     "output_type": "display_data"
    }
   ],
   "source": [
    "np.random.seed(1)\n",
    "\n",
    "mu, sigma = 100, 1\n",
    "x = mu + sigma * np.random.randn(10000)\n",
    "\n",
    "n, bins, patches = plt.hist(x, 50, normed=1, facecolor='g', alpha=0.75)\n",
    "\n",
    "plt.xlabel('Smarts')\n",
    "plt.ylabel('Probability')\n",
    "plt.title('Histogram of IQ')\n",
    "plt.text(60, .025, r'$\\mu-100, \\ \\sigma=15$')\n",
    "plt.axis([40,160,0,0.03])\n",
    "plt.grid(True)\n",
    "plt.show()"
   ]
  },
  {
   "cell_type": "markdown",
   "id": "9ec3b14d",
   "metadata": {},
   "source": [
    "如果按照lecture中的例子会报错的话，可以尝试改为下图的density=True"
   ]
  },
  {
   "cell_type": "code",
   "execution_count": 27,
   "id": "72dbe0a9",
   "metadata": {},
   "outputs": [
    {
     "data": {
      "image/png": "[encoded data removed]",
      "text/plain": [
       "<Figure size 432x288 with 1 Axes>"
      ]
     },
     "metadata": {
      "needs_background": "light"
     },
     "output_type": "display_data"
    }
   ],
   "source": [
    "\n",
    "np.random.seed(1)\n",
    "\n",
    "mu, sigma = 100, 1\n",
    "x = mu + sigma * np.random.randn(10000)\n",
    "\n",
    "n, bins, patches = plt.hist(x, 50, density=True, facecolor='g', alpha=0.75)\n",
    "\n",
    "plt.xlabel('Smarts')\n",
    "plt.ylabel('Probability')\n",
    "plt.title('Histogram of IQ')\n",
    "plt.text(60, .025, r'$\\mu-100, \\ \\sigma=15$')\n",
    "plt.axis([40,160,0,0.03])\n",
    "plt.grid(True)\n",
    "plt.show()"
   ]
  },
  {
   "cell_type": "code",
   "execution_count": null,
   "id": "ee7ba056",
   "metadata": {},
   "outputs": [],
   "source": []
  },
  {
   "cell_type": "markdown",
   "id": "f3680e04",
   "metadata": {},
   "source": [
    "### 3.6 FinTech Task\n",
    "\n",
    "pip install pandas"
   ]
  },
  {
   "cell_type": "code",
   "execution_count": 28,
   "id": "895e58fe",
   "metadata": {},
   "outputs": [],
   "source": [
    "import matplotlib.pyplot as plt\n",
    "import pandas as pd"
   ]
  },
  {
   "cell_type": "code",
   "execution_count": 29,
   "id": "64469227",
   "metadata": {},
   "outputs": [
    {
     "data": {
      "text/plain": [
       "'/Users/chaowang/Desktop/5548 week3 fintech infrastructure'"
      ]
     },
     "execution_count": 29,
     "metadata": {},
     "output_type": "execute_result"
    }
   ],
   "source": [
    "pwd"
   ]
  },
  {
   "cell_type": "code",
   "execution_count": 30,
   "id": "350a9901",
   "metadata": {},
   "outputs": [],
   "source": [
    "stock1 = pd.read_csv(\"APT.csv\")\n",
    "stock2 = pd.read_csv(\"V.csv\")"
   ]
  },
  {
   "cell_type": "code",
   "execution_count": 31,
   "id": "db00332d",
   "metadata": {},
   "outputs": [
    {
     "name": "stdout",
     "output_type": "stream",
     "text": [
      "          Date       Open       High        Low      Close  Adj Close   Volume\n",
      "0    14/6/2018   8.450000   9.080000   8.410000   9.080000   9.080000  2287478\n",
      "1    15/6/2018   9.150000   9.470000   9.090000   9.120000   9.120000  7692647\n",
      "2    18/6/2018   9.180000   9.180000   8.680000   8.900000   8.900000  1264673\n",
      "3    19/6/2018   8.950000   9.000000   8.700000   8.800000   8.800000  1203052\n",
      "4    20/6/2018   8.840000   8.940000   8.700000   8.810000   8.810000  1233112\n",
      "..         ...        ...        ...        ...        ...        ...      ...\n",
      "247   5/6/2019  23.030001  24.570000  22.950001  23.900000  23.900000  2439496\n",
      "248   6/6/2019  25.010000  25.200001  22.959999  23.450001  23.450001  3680154\n",
      "249   7/6/2019  23.500000  24.370001  22.950001  24.170000  24.170000  2484087\n",
      "250  11/6/2019  24.170000  24.170000  24.170000  24.170000  24.170000        0\n",
      "251  12/6/2019  24.600000  26.490000  24.400000  25.639999  25.639999  6512239\n",
      "\n",
      "[252 rows x 7 columns]\n"
     ]
    }
   ],
   "source": [
    "print(stock1)"
   ]
  },
  {
   "cell_type": "code",
   "execution_count": 32,
   "id": "b3310da5",
   "metadata": {
    "scrolled": false
   },
   "outputs": [
    {
     "data": {
      "text/html": [
       "<div>\n",
       "<style scoped>\n",
       "    .dataframe tbody tr th:only-of-type {\n",
       "        vertical-align: middle;\n",
       "    }\n",
       "\n",
       "    .dataframe tbody tr th {\n",
       "        vertical-align: top;\n",
       "    }\n",
       "\n",
       "    .dataframe thead th {\n",
       "        text-align: right;\n",
       "    }\n",
       "</style>\n",
       "<table border=\"1\" class=\"dataframe\">\n",
       "  <thead>\n",
       "    <tr style=\"text-align: right;\">\n",
       "      <th></th>\n",
       "      <th>Date</th>\n",
       "      <th>Open</th>\n",
       "      <th>High</th>\n",
       "      <th>Low</th>\n",
       "      <th>Close</th>\n",
       "      <th>Adj Close</th>\n",
       "      <th>Volume</th>\n",
       "    </tr>\n",
       "  </thead>\n",
       "  <tbody>\n",
       "    <tr>\n",
       "      <th>0</th>\n",
       "      <td>13/6/2018</td>\n",
       "      <td>135.179993</td>\n",
       "      <td>135.770004</td>\n",
       "      <td>134.309998</td>\n",
       "      <td>134.399994</td>\n",
       "      <td>133.519012</td>\n",
       "      <td>4881600</td>\n",
       "    </tr>\n",
       "    <tr>\n",
       "      <th>1</th>\n",
       "      <td>14/6/2018</td>\n",
       "      <td>134.960007</td>\n",
       "      <td>135.699997</td>\n",
       "      <td>134.750000</td>\n",
       "      <td>135.000000</td>\n",
       "      <td>134.115082</td>\n",
       "      <td>6464100</td>\n",
       "    </tr>\n",
       "    <tr>\n",
       "      <th>2</th>\n",
       "      <td>15/6/2018</td>\n",
       "      <td>135.100006</td>\n",
       "      <td>135.729996</td>\n",
       "      <td>134.000000</td>\n",
       "      <td>135.100006</td>\n",
       "      <td>134.214432</td>\n",
       "      <td>10044500</td>\n",
       "    </tr>\n",
       "    <tr>\n",
       "      <th>3</th>\n",
       "      <td>18/6/2018</td>\n",
       "      <td>134.369995</td>\n",
       "      <td>136.309998</td>\n",
       "      <td>134.119995</td>\n",
       "      <td>136.199997</td>\n",
       "      <td>135.307190</td>\n",
       "      <td>8713300</td>\n",
       "    </tr>\n",
       "    <tr>\n",
       "      <th>4</th>\n",
       "      <td>19/6/2018</td>\n",
       "      <td>134.559998</td>\n",
       "      <td>135.240005</td>\n",
       "      <td>133.570007</td>\n",
       "      <td>135.110001</td>\n",
       "      <td>134.224365</td>\n",
       "      <td>6557600</td>\n",
       "    </tr>\n",
       "    <tr>\n",
       "      <th>...</th>\n",
       "      <td>...</td>\n",
       "      <td>...</td>\n",
       "      <td>...</td>\n",
       "      <td>...</td>\n",
       "      <td>...</td>\n",
       "      <td>...</td>\n",
       "      <td>...</td>\n",
       "    </tr>\n",
       "    <tr>\n",
       "      <th>247</th>\n",
       "      <td>7/6/2019</td>\n",
       "      <td>168.000000</td>\n",
       "      <td>171.610001</td>\n",
       "      <td>167.800003</td>\n",
       "      <td>170.050003</td>\n",
       "      <td>170.050003</td>\n",
       "      <td>10528800</td>\n",
       "    </tr>\n",
       "    <tr>\n",
       "      <th>248</th>\n",
       "      <td>10/6/2019</td>\n",
       "      <td>171.839996</td>\n",
       "      <td>172.020004</td>\n",
       "      <td>170.509995</td>\n",
       "      <td>170.820007</td>\n",
       "      <td>170.820007</td>\n",
       "      <td>7565900</td>\n",
       "    </tr>\n",
       "    <tr>\n",
       "      <th>249</th>\n",
       "      <td>11/6/2019</td>\n",
       "      <td>171.949997</td>\n",
       "      <td>172.179993</td>\n",
       "      <td>168.419998</td>\n",
       "      <td>170.309998</td>\n",
       "      <td>170.309998</td>\n",
       "      <td>6082900</td>\n",
       "    </tr>\n",
       "    <tr>\n",
       "      <th>250</th>\n",
       "      <td>12/6/2019</td>\n",
       "      <td>170.380005</td>\n",
       "      <td>171.619995</td>\n",
       "      <td>169.699997</td>\n",
       "      <td>171.589996</td>\n",
       "      <td>171.589996</td>\n",
       "      <td>6772000</td>\n",
       "    </tr>\n",
       "    <tr>\n",
       "      <th>251</th>\n",
       "      <td>13/6/2019</td>\n",
       "      <td>172.139999</td>\n",
       "      <td>172.199997</td>\n",
       "      <td>168.720001</td>\n",
       "      <td>169.350006</td>\n",
       "      <td>169.350006</td>\n",
       "      <td>6900700</td>\n",
       "    </tr>\n",
       "  </tbody>\n",
       "</table>\n",
       "<p>252 rows × 7 columns</p>\n",
       "</div>"
      ],
      "text/plain": [
       "          Date        Open        High         Low       Close   Adj Close  \\\n",
       "0    13/6/2018  135.179993  135.770004  134.309998  134.399994  133.519012   \n",
       "1    14/6/2018  134.960007  135.699997  134.750000  135.000000  134.115082   \n",
       "2    15/6/2018  135.100006  135.729996  134.000000  135.100006  134.214432   \n",
       "3    18/6/2018  134.369995  136.309998  134.119995  136.199997  135.307190   \n",
       "4    19/6/2018  134.559998  135.240005  133.570007  135.110001  134.224365   \n",
       "..         ...         ...         ...         ...         ...         ...   \n",
       "247   7/6/2019  168.000000  171.610001  167.800003  170.050003  170.050003   \n",
       "248  10/6/2019  171.839996  172.020004  170.509995  170.820007  170.820007   \n",
       "249  11/6/2019  171.949997  172.179993  168.419998  170.309998  170.309998   \n",
       "250  12/6/2019  170.380005  171.619995  169.699997  171.589996  171.589996   \n",
       "251  13/6/2019  172.139999  172.199997  168.720001  169.350006  169.350006   \n",
       "\n",
       "       Volume  \n",
       "0     4881600  \n",
       "1     6464100  \n",
       "2    10044500  \n",
       "3     8713300  \n",
       "4     6557600  \n",
       "..        ...  \n",
       "247  10528800  \n",
       "248   7565900  \n",
       "249   6082900  \n",
       "250   6772000  \n",
       "251   6900700  \n",
       "\n",
       "[252 rows x 7 columns]"
      ]
     },
     "execution_count": 32,
     "metadata": {},
     "output_type": "execute_result"
    }
   ],
   "source": [
    "# 仅在JN中可以不加print来直接查看变量值\n",
    "stock2"
   ]
  },
  {
   "cell_type": "code",
   "execution_count": 33,
   "id": "d57c0f98",
   "metadata": {
    "scrolled": true
   },
   "outputs": [
    {
     "data": {
      "text/html": [
       "<div>\n",
       "<style scoped>\n",
       "    .dataframe tbody tr th:only-of-type {\n",
       "        vertical-align: middle;\n",
       "    }\n",
       "\n",
       "    .dataframe tbody tr th {\n",
       "        vertical-align: top;\n",
       "    }\n",
       "\n",
       "    .dataframe thead th {\n",
       "        text-align: right;\n",
       "    }\n",
       "</style>\n",
       "<table border=\"1\" class=\"dataframe\">\n",
       "  <thead>\n",
       "    <tr style=\"text-align: right;\">\n",
       "      <th></th>\n",
       "      <th>Date</th>\n",
       "      <th>Open</th>\n",
       "      <th>High</th>\n",
       "      <th>Low</th>\n",
       "      <th>Close</th>\n",
       "      <th>Adj Close</th>\n",
       "      <th>Volume</th>\n",
       "    </tr>\n",
       "  </thead>\n",
       "  <tbody>\n",
       "    <tr>\n",
       "      <th>0</th>\n",
       "      <td>13/6/2018</td>\n",
       "      <td>135.179993</td>\n",
       "      <td>135.770004</td>\n",
       "      <td>134.309998</td>\n",
       "      <td>134.399994</td>\n",
       "      <td>133.519012</td>\n",
       "      <td>4881600</td>\n",
       "    </tr>\n",
       "    <tr>\n",
       "      <th>1</th>\n",
       "      <td>14/6/2018</td>\n",
       "      <td>134.960007</td>\n",
       "      <td>135.699997</td>\n",
       "      <td>134.750000</td>\n",
       "      <td>135.000000</td>\n",
       "      <td>134.115082</td>\n",
       "      <td>6464100</td>\n",
       "    </tr>\n",
       "    <tr>\n",
       "      <th>2</th>\n",
       "      <td>15/6/2018</td>\n",
       "      <td>135.100006</td>\n",
       "      <td>135.729996</td>\n",
       "      <td>134.000000</td>\n",
       "      <td>135.100006</td>\n",
       "      <td>134.214432</td>\n",
       "      <td>10044500</td>\n",
       "    </tr>\n",
       "    <tr>\n",
       "      <th>3</th>\n",
       "      <td>18/6/2018</td>\n",
       "      <td>134.369995</td>\n",
       "      <td>136.309998</td>\n",
       "      <td>134.119995</td>\n",
       "      <td>136.199997</td>\n",
       "      <td>135.307190</td>\n",
       "      <td>8713300</td>\n",
       "    </tr>\n",
       "    <tr>\n",
       "      <th>4</th>\n",
       "      <td>19/6/2018</td>\n",
       "      <td>134.559998</td>\n",
       "      <td>135.240005</td>\n",
       "      <td>133.570007</td>\n",
       "      <td>135.110001</td>\n",
       "      <td>134.224365</td>\n",
       "      <td>6557600</td>\n",
       "    </tr>\n",
       "  </tbody>\n",
       "</table>\n",
       "</div>"
      ],
      "text/plain": [
       "        Date        Open        High         Low       Close   Adj Close  \\\n",
       "0  13/6/2018  135.179993  135.770004  134.309998  134.399994  133.519012   \n",
       "1  14/6/2018  134.960007  135.699997  134.750000  135.000000  134.115082   \n",
       "2  15/6/2018  135.100006  135.729996  134.000000  135.100006  134.214432   \n",
       "3  18/6/2018  134.369995  136.309998  134.119995  136.199997  135.307190   \n",
       "4  19/6/2018  134.559998  135.240005  133.570007  135.110001  134.224365   \n",
       "\n",
       "     Volume  \n",
       "0   4881600  \n",
       "1   6464100  \n",
       "2  10044500  \n",
       "3   8713300  \n",
       "4   6557600  "
      ]
     },
     "execution_count": 33,
     "metadata": {},
     "output_type": "execute_result"
    }
   ],
   "source": [
    "stock2.head()"
   ]
  },
  {
   "cell_type": "code",
   "execution_count": 34,
   "id": "363490f8",
   "metadata": {},
   "outputs": [
    {
     "data": {
      "text/html": [
       "<div>\n",
       "<style scoped>\n",
       "    .dataframe tbody tr th:only-of-type {\n",
       "        vertical-align: middle;\n",
       "    }\n",
       "\n",
       "    .dataframe tbody tr th {\n",
       "        vertical-align: top;\n",
       "    }\n",
       "\n",
       "    .dataframe thead th {\n",
       "        text-align: right;\n",
       "    }\n",
       "</style>\n",
       "<table border=\"1\" class=\"dataframe\">\n",
       "  <thead>\n",
       "    <tr style=\"text-align: right;\">\n",
       "      <th></th>\n",
       "      <th>Date</th>\n",
       "      <th>Open</th>\n",
       "      <th>High</th>\n",
       "      <th>Low</th>\n",
       "      <th>Close</th>\n",
       "      <th>Adj Close</th>\n",
       "      <th>Volume</th>\n",
       "    </tr>\n",
       "  </thead>\n",
       "  <tbody>\n",
       "    <tr>\n",
       "      <th>0</th>\n",
       "      <td>13/6/2018</td>\n",
       "      <td>135.179993</td>\n",
       "      <td>135.770004</td>\n",
       "      <td>134.309998</td>\n",
       "      <td>134.399994</td>\n",
       "      <td>133.519012</td>\n",
       "      <td>4881600</td>\n",
       "    </tr>\n",
       "    <tr>\n",
       "      <th>1</th>\n",
       "      <td>14/6/2018</td>\n",
       "      <td>134.960007</td>\n",
       "      <td>135.699997</td>\n",
       "      <td>134.750000</td>\n",
       "      <td>135.000000</td>\n",
       "      <td>134.115082</td>\n",
       "      <td>6464100</td>\n",
       "    </tr>\n",
       "    <tr>\n",
       "      <th>2</th>\n",
       "      <td>15/6/2018</td>\n",
       "      <td>135.100006</td>\n",
       "      <td>135.729996</td>\n",
       "      <td>134.000000</td>\n",
       "      <td>135.100006</td>\n",
       "      <td>134.214432</td>\n",
       "      <td>10044500</td>\n",
       "    </tr>\n",
       "  </tbody>\n",
       "</table>\n",
       "</div>"
      ],
      "text/plain": [
       "        Date        Open        High         Low       Close   Adj Close  \\\n",
       "0  13/6/2018  135.179993  135.770004  134.309998  134.399994  133.519012   \n",
       "1  14/6/2018  134.960007  135.699997  134.750000  135.000000  134.115082   \n",
       "2  15/6/2018  135.100006  135.729996  134.000000  135.100006  134.214432   \n",
       "\n",
       "     Volume  \n",
       "0   4881600  \n",
       "1   6464100  \n",
       "2  10044500  "
      ]
     },
     "execution_count": 34,
     "metadata": {},
     "output_type": "execute_result"
    }
   ],
   "source": [
    "stock2.head(3)"
   ]
  },
  {
   "cell_type": "code",
   "execution_count": 35,
   "id": "f64b7e33",
   "metadata": {},
   "outputs": [],
   "source": [
    "stock1_close = stock1.Close\n",
    "stock1_diff = stock1.Close.pct_change()\n",
    "stock1_roll = stock1_close.rolling(window=180)\n",
    "stock1_roll_mean = stock1_roll.mean()"
   ]
  },
  {
   "cell_type": "code",
   "execution_count": 36,
   "id": "47e65091",
   "metadata": {},
   "outputs": [
    {
     "data": {
      "text/plain": [
       "16.73865072222222"
      ]
     },
     "execution_count": 36,
     "metadata": {},
     "output_type": "execute_result"
    }
   ],
   "source": [
    "stock1_close.mean()"
   ]
  },
  {
   "cell_type": "code",
   "execution_count": 37,
   "id": "6ead6d25",
   "metadata": {},
   "outputs": [
    {
     "data": {
      "text/plain": [
       "5.003837856162234"
      ]
     },
     "execution_count": 37,
     "metadata": {},
     "output_type": "execute_result"
    }
   ],
   "source": [
    "stock1_close.std()"
   ]
  },
  {
   "cell_type": "code",
   "execution_count": 38,
   "id": "e477e269",
   "metadata": {},
   "outputs": [],
   "source": [
    "stock2_close = stock2.Close\n",
    "stock2_diff = stock2.Close.pct_change()\n",
    "stock2_roll = stock2_close.rolling(window=180)\n",
    "stock2_roll_mean = stock2_roll.mean()"
   ]
  },
  {
   "cell_type": "code",
   "execution_count": 39,
   "id": "35d18f8e",
   "metadata": {},
   "outputs": [
    {
     "data": {
      "text/plain": [
       "145.3152775833334"
      ]
     },
     "execution_count": 39,
     "metadata": {},
     "output_type": "execute_result"
    }
   ],
   "source": [
    "stock2_close.mean()\n"
   ]
  },
  {
   "cell_type": "code",
   "execution_count": 40,
   "id": "9dbf94a3",
   "metadata": {},
   "outputs": [
    {
     "data": {
      "text/plain": [
       "10.426993494992253"
      ]
     },
     "execution_count": 40,
     "metadata": {},
     "output_type": "execute_result"
    }
   ],
   "source": [
    "stock2_close.std()"
   ]
  },
  {
   "cell_type": "code",
   "execution_count": 41,
   "id": "02b1a426",
   "metadata": {},
   "outputs": [
    {
     "data": {
      "image/png": "[encoded data removed]",
      "text/plain": [
       "<Figure size 432x288 with 4 Axes>"
      ]
     },
     "metadata": {
      "needs_background": "light"
     },
     "output_type": "display_data"
    }
   ],
   "source": [
    "#将所有图形整合到一起\n",
    "plt.figure(1)\n",
    "\n",
    "#221， 222， 223， 224 说明2*2的展示方式中的第几张图\n",
    "plt.subplot(221)\n",
    "stock1_close.plot(c='b', markersize=8, label='Stock1', title='Stock1')\n",
    "stock1_roll_mean.plot(color='red')\n",
    "\n",
    "plt.subplot(222)\n",
    "stock1_diff.plot(c='r',  markersize=8, label='Stock1', title='Stock1 %Diff')\n",
    "\n",
    "plt.subplot(223)\n",
    "stock2_close.plot(c='b', markersize=8, label='Stock2', title='Stock2')\n",
    "stock2_roll_mean.plot(color='red')\n",
    "\n",
    "plt.subplot(224)\n",
    "stock2_diff.plot(c='r',  markersize=8, label='Stock2', title='Stock2 %Diff')\n",
    "\n",
    "#记得用这个show语句才可以展示出来\n",
    "plt.show()"
   ]
  },
  {
   "cell_type": "code",
   "execution_count": null,
   "id": "150abf50",
   "metadata": {},
   "outputs": [],
   "source": []
  },
  {
   "cell_type": "code",
   "execution_count": null,
   "id": "561a7813",
   "metadata": {},
   "outputs": [],
   "source": []
  },
  {
   "cell_type": "code",
   "execution_count": null,
   "id": "a7449bc7",
   "metadata": {},
   "outputs": [],
   "source": []
  },
  {
   "cell_type": "code",
   "execution_count": null,
   "id": "84a3329d",
   "metadata": {},
   "outputs": [],
   "source": []
  },
  {
   "cell_type": "code",
   "execution_count": null,
   "id": "e527407a",
   "metadata": {},
   "outputs": [],
   "source": []
  },
  {
   "cell_type": "code",
   "execution_count": null,
   "id": "a80ea042",
   "metadata": {},
   "outputs": [],
   "source": []
  },
  {
   "cell_type": "code",
   "execution_count": null,
   "id": "4ba233b6",
   "metadata": {},
   "outputs": [],
   "source": []
  },
  {
   "cell_type": "code",
   "execution_count": null,
   "id": "e6df3b46",
   "metadata": {},
   "outputs": [],
   "source": []
  }
 ],
 "metadata": {
  "kernelspec": {
   "display_name": "Python 3",
   "language": "python",
   "name": "python3"
  },
  "language_info": {
   "codemirror_mode": {
    "name": "ipython",
    "version": 3
   },
   "file_extension": ".py",
   "mimetype": "text/x-python",
   "name": "python",
   "nbconvert_exporter": "python",
   "pygments_lexer": "ipython3",
   "version": "3.8.8"
  }
 },
 "nbformat": 4,
 "nbformat_minor": 5
}
